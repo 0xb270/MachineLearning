{
 "cells": [
  {
   "cell_type": "markdown",
   "metadata": {},
   "source": [
    "# Machine Learning\n",
    "# CH1: numpy & pandas 기초\n",
    "\n",
    "## 2018년 11월 14일 안상호\n",
    "\n",
    "---\n",
    "\n",
    "> *가장 높은 곳에 올라가려면 가장 낮은 곳부터 시작하라.*\n",
    ">> **푸블리우스 시루스**\n",
    "\n",
    "---\n",
    "\n",
    "- 목차\n",
    "    1. `numpy` 기초\n",
    "    2. `pandas` 기초\n",
    "    3. `numpy` & `pandas` 응용\n",
    "\n",
    "## 1. `Numpy` 기초\n",
    "\n",
    "> *`numpy`는 수학 및 과학 연산을 위한 Python의 기본 패키지입니다.*\n",
    "\n",
    "> 출처: [공식 홈페이지](http://www.numpy.org/) \n",
    "\n",
    "\n",
    "- 강점\n",
    "    + a powerful N-dimensional array object\n",
    "    + sophisticated (broadcasting) functions\n",
    "    + tools for integrating C/C++ and Fortran code\n",
    "    + useful linear algebra, Fourier transform, and random number capabilities\n",
    "\n",
    "종합하자면 `C`/`C++`, `Fortran`으로 작성되어 빠르면서도 정교한 수학 연산, 특히 **벡터** 및 **행렬**(선형대수) 연산을 가능하게 합니다.\n",
    "\n",
    "### Problem: 수학 연산\n",
    "\n",
    "$$\\vec{a} = (1, 2, 3)$$\n",
    "\n",
    "$$\\vec{b} = (4, 5, 6)$$\n",
    "\n",
    "$$\\therefore \\vec{a} + \\vec{b} = (5, 7, 9)$$\n",
    "\n",
    "이걸 어떻게 구현해야할까?\n",
    "\n",
    "- **python** `list`"
   ]
  },
  {
   "cell_type": "code",
   "execution_count": 1,
   "metadata": {},
   "outputs": [
    {
     "name": "stdout",
     "output_type": "stream",
     "text": [
      "[1, 2, 3, 4, 5, 6]\n",
      "[5, 7, 9]\n"
     ]
    }
   ],
   "source": [
    "a = [1, 2, 3]\n",
    "b = [4, 5, 6]\n",
    "\n",
    "print(a + b) ### 이게 아니다.\n",
    "print([a_i + b_i for a_i, b_i in zip(a, b)]) ### zip 함수를 써서 묶고, list comprehension\n",
    "\n",
    "def vector_sum(a, b):\n",
    "    return [a_i + b_i for a_i, b_i in zip(a, b)]"
   ]
  },
  {
   "cell_type": "markdown",
   "metadata": {},
   "source": [
    "리스트간의 합은 단지 원소 갯수를 추가하는 것이기 때문에, 반복문 (`for` 또는 `list comprehension`)이 필요합니다.\n",
    "\n",
    "이는 작은 규모의 연산에서는 별 차이가 없으나, 큰 규모의 연산에서는 끔찍한 성능을 발휘하게 됩니다.\n",
    "\n",
    "- `numpy`\n",
    "\n",
    "`numpy` **bb**"
   ]
  },
  {
   "cell_type": "code",
   "execution_count": 2,
   "metadata": {},
   "outputs": [
    {
     "name": "stdout",
     "output_type": "stream",
     "text": [
      "[5 7 9]\n"
     ]
    }
   ],
   "source": [
    "import numpy as np\n",
    "\n",
    "a = np.array([1, 2, 3])\n",
    "b = np.array([4, 5, 6])\n",
    "\n",
    "print(a + b)"
   ]
  },
  {
   "cell_type": "markdown",
   "metadata": {},
   "source": [
    "### 1.1. `numpy` 불러오기\n",
    "\n",
    "관습적으로 `numpy`를 import 할때 `np`라는 약어를 사용하고 있습니다."
   ]
  },
  {
   "cell_type": "code",
   "execution_count": 3,
   "metadata": {},
   "outputs": [],
   "source": [
    "import numpy as np"
   ]
  },
  {
   "cell_type": "markdown",
   "metadata": {},
   "source": [
    "### 1.2. 배열 생성\n",
    "\n",
    "`numpy`의 자료 클래스를 `ndarray`**(N-Dimensional Array)**라고 합니다.\n",
    "\n",
    "- `np.array()` \n",
    "    + 기존의 python `list`, `tuple` 등으로 생성   \n",
    "    + `dtype`을 조정하여 데이터 타입 지정 가능"
   ]
  },
  {
   "cell_type": "code",
   "execution_count": 4,
   "metadata": {},
   "outputs": [
    {
     "name": "stdout",
     "output_type": "stream",
     "text": [
      "[2 3 4]\n",
      "[[ 1.5  2.   3. ]\n",
      " [ 4.   5.   6. ]]\n",
      "<class 'numpy.ndarray'>\n"
     ]
    },
    {
     "data": {
      "text/plain": [
       "array([[ 1.+0.j,  2.+0.j],\n",
       "       [ 3.+0.j,  4.+0.j]])"
      ]
     },
     "execution_count": 4,
     "metadata": {},
     "output_type": "execute_result"
    }
   ],
   "source": [
    "print(np.array([2,3,4]))\n",
    "print(np.array([(1.5,2,3), (4,5,6)]))\n",
    "\n",
    "a = np.array( [ [1,2], [3,4] ], dtype=complex)\n",
    "print(type(a))\n",
    "a"
   ]
  },
  {
   "cell_type": "markdown",
   "metadata": {},
   "source": [
    "- `np.arrange()` \n",
    "    + 범위를 지정하여 생성"
   ]
  },
  {
   "cell_type": "code",
   "execution_count": 5,
   "metadata": {},
   "outputs": [
    {
     "data": {
      "text/plain": [
       "array([10, 15, 20, 25])"
      ]
     },
     "execution_count": 5,
     "metadata": {},
     "output_type": "execute_result"
    }
   ],
   "source": [
    "np.arange( 10, 30, 5 )"
   ]
  },
  {
   "cell_type": "markdown",
   "metadata": {},
   "source": [
    "- `np.zeros()` or `np.ones()` or `np.empty()`\n",
    "    + 사이즈를 지정하여 생성 "
   ]
  },
  {
   "cell_type": "code",
   "execution_count": 6,
   "metadata": {},
   "outputs": [
    {
     "data": {
      "text/plain": [
       "array([[ 0.,  0.,  0.,  0.],\n",
       "       [ 0.,  0.,  0.,  0.],\n",
       "       [ 0.,  0.,  0.,  0.]])"
      ]
     },
     "execution_count": 6,
     "metadata": {},
     "output_type": "execute_result"
    }
   ],
   "source": [
    "np.zeros((3,4))"
   ]
  },
  {
   "cell_type": "code",
   "execution_count": 7,
   "metadata": {},
   "outputs": [
    {
     "data": {
      "text/plain": [
       "array([[[1, 1, 1, 1],\n",
       "        [1, 1, 1, 1],\n",
       "        [1, 1, 1, 1]],\n",
       "\n",
       "       [[1, 1, 1, 1],\n",
       "        [1, 1, 1, 1],\n",
       "        [1, 1, 1, 1]]], dtype=int16)"
      ]
     },
     "execution_count": 7,
     "metadata": {},
     "output_type": "execute_result"
    }
   ],
   "source": [
    "np.ones((2,3,4), dtype=np.int16)"
   ]
  },
  {
   "cell_type": "code",
   "execution_count": 8,
   "metadata": {},
   "outputs": [
    {
     "data": {
      "text/plain": [
       "array([[ 0.,  0.,  0.],\n",
       "       [ 0.,  0.,  0.]])"
      ]
     },
     "execution_count": 8,
     "metadata": {},
     "output_type": "execute_result"
    }
   ],
   "source": [
    "np.empty((2,3), dtype=np.double)"
   ]
  },
  {
   "cell_type": "markdown",
   "metadata": {},
   "source": [
    "### 1.3. 산술 연산\n",
    "\n",
    "`ndarray`는 기초적인 산술 연산을 지원하는데, **`+`,`-`, `*`, `/`**를 지원합니다. \n",
    "\n",
    "이 연산들은 같은 자리의 성분끼리 연산되는 *element-wise* 방식으로, 기본적으로는 원소의 수가 같을 때 연산이 가능합니다.\n",
    "\n",
    "다만 **borad cast**라는 방법으로 서로 다른 원소들 간에도 연산이 가능한 경우가 있습니다.\n",
    "\n",
    "![](http://www.astroml.org/_images/fig_broadcast_visual_1.png)"
   ]
  },
  {
   "cell_type": "code",
   "execution_count": 9,
   "metadata": {},
   "outputs": [
    {
     "name": "stdout",
     "output_type": "stream",
     "text": [
      "[ 3.  6.  9.]\n",
      "[-1. -2. -3.]\n",
      "[  2.   8.  18.]\n",
      "[ 0.5  0.5  0.5]\n"
     ]
    }
   ],
   "source": [
    "x = np.array([1.0, 2.0, 3.0])\n",
    "y = np.array([2.0, 4.0, 6.0])\n",
    "print(x + y) # 원소별 덧셈\n",
    "print(x - y)\n",
    "print(x * y) # 원소별 곱셈\n",
    "print(x / y)\n"
   ]
  },
  {
   "cell_type": "code",
   "execution_count": 10,
   "metadata": {},
   "outputs": [
    {
     "data": {
      "text/plain": [
       "array([5, 6, 7])"
      ]
     },
     "execution_count": 10,
     "metadata": {},
     "output_type": "execute_result"
    }
   ],
   "source": [
    "x = np.arange(3)\n",
    "x + 5"
   ]
  },
  {
   "cell_type": "markdown",
   "metadata": {},
   "source": [
    "### 1.4. N 차원 배열\n",
    "\n",
    "![](https://taewanmerepo.github.io/2018/01/numpy/nparr.jpg)"
   ]
  },
  {
   "cell_type": "code",
   "execution_count": 11,
   "metadata": {},
   "outputs": [
    {
     "name": "stdout",
     "output_type": "stream",
     "text": [
      "(3,) (2, 3)\n"
     ]
    }
   ],
   "source": [
    "A = np.array([1, 2, 3]) # 1D array\n",
    "B = np.array([[1, 2, 3], [4, 5, 6]]) # 2D array\n",
    "\n",
    "print(A.shape, B.shape)"
   ]
  },
  {
   "cell_type": "code",
   "execution_count": 12,
   "metadata": {},
   "outputs": [
    {
     "name": "stdout",
     "output_type": "stream",
     "text": [
      "[14 32]\n",
      "[[ 4  2  7]\n",
      " [ 4 11  8]]\n"
     ]
    }
   ],
   "source": [
    "C = np.array([[3, 0, 4], [0, 6, 2]])\n",
    "\n",
    "print(B.dot(A)) # 2 X 3 행렬과 3 X 1 array의 행렬곱\n",
    "\n",
    "print(B + C) # element-wise "
   ]
  },
  {
   "cell_type": "markdown",
   "metadata": {},
   "source": [
    "### 1.5. 인덱싱\n",
    "\n",
    "- 원소에 대한 접근"
   ]
  },
  {
   "cell_type": "code",
   "execution_count": 13,
   "metadata": {},
   "outputs": [
    {
     "name": "stdout",
     "output_type": "stream",
     "text": [
      "[[51 55]\n",
      " [14 19]\n",
      " [ 0  4]]\n",
      "0행 [51 55]\n",
      "(0, 1) 위치의 원소 55\n"
     ]
    }
   ],
   "source": [
    "X = np.array([[51, 55], [14, 19], [0, 4]])\n",
    "print(X)\n",
    "\n",
    "print(\"0행 {}\".format(X[0]))\n",
    "print(\"(0, 1) 위치의 원소 {}\".format(X[0][1]))   "
   ]
  },
  {
   "cell_type": "markdown",
   "metadata": {},
   "source": [
    "- `for` **indexing**"
   ]
  },
  {
   "cell_type": "code",
   "execution_count": 14,
   "metadata": {},
   "outputs": [
    {
     "name": "stdout",
     "output_type": "stream",
     "text": [
      "[51 55]\n",
      "[14 19]\n",
      "[0 4]\n"
     ]
    }
   ],
   "source": [
    "for row in X:\n",
    "    print(row)"
   ]
  },
  {
   "cell_type": "markdown",
   "metadata": {},
   "source": [
    "- `bool` **indexing**"
   ]
  },
  {
   "cell_type": "code",
   "execution_count": 15,
   "metadata": {},
   "outputs": [
    {
     "name": "stdout",
     "output_type": "stream",
     "text": [
      "[[ True  True]\n",
      " [False  True]\n",
      " [False False]]\n"
     ]
    },
    {
     "data": {
      "text/plain": [
       "array([51, 55, 19])"
      ]
     },
     "execution_count": 15,
     "metadata": {},
     "output_type": "execute_result"
    }
   ],
   "source": [
    "condition = X > 15\n",
    "print(condition)\n",
    "\n",
    "X[condition]"
   ]
  },
  {
   "cell_type": "markdown",
   "metadata": {},
   "source": [
    "---\n",
    "\n",
    "## 2. `Pandas` 기초\n",
    "\n",
    "\n",
    "> *`pandas`는 성능의 사용이 쉬운 데이터구조와 python 프로그래밍언어를 위한 데이터분석 도구를 제공하는 Python의 기본 패키지입니다.*\n",
    "\n",
    "> 출처: [공식 홈페이지](https://pandas.pydata.org/) \n",
    "\n",
    "- 강점 \n",
    "    + 자동적/명시적으로 축의 이름에 따라 데이터를 정렬할 수 있는 데이터구조.\n",
    "    + 통합된 시계열 기능\n",
    "    + 시계열 데이터와 비시계열 데이터를 함께 다룰 수 있는 통합 자료 구조\n",
    "    + 산술연산과 한 축의 모든 값을 더하는 등 데이터 축약연산은 축의 이름같은 메타데이터로 전달될 수 있어야 함\n",
    "    + 누락된 데이터를 유연하게 처리할 수 있는 기능\n",
    "    + SQL 같은 일반 데이터베이스처럼 데이터를 합치고 관계연산을 수행하는 기능\n",
    "        - 출처: http://shop.oreilly.com/product/0636920050896.do\n",
    "        \n",
    "**Series**와 **DataFrame**이라는 자료구조를 사용하는 `pandas`는 `numpy` 기반 연산을 수행합니다.\n",
    "\n",
    "### 2.1. `pandas` 불러오기\n",
    "\n",
    "관습적으로 `pandas`를 import 할때 `pd`라는 약어를 사용하고 있습니다."
   ]
  },
  {
   "cell_type": "code",
   "execution_count": 16,
   "metadata": {},
   "outputs": [],
   "source": [
    "import pandas as pd "
   ]
  },
  {
   "cell_type": "markdown",
   "metadata": {},
   "source": [
    "### 2.2. Series\n",
    "\n",
    "Series는 1차원 데이터를 다루는데 효과적인 자료구조이고, `numpy`의 `ndarray`와 유사하게 index와 value를 갖고 있다. 하지만 `pandas` **Series**가 갖고 있는 특징은 **색인(index)**을 지정할 수 있다는 특징이 있다. [[출처]](https://pandas.pydata.org/pandas-docs/version/0.23.4/generated/pandas.Series.html)\n"
   ]
  },
  {
   "cell_type": "code",
   "execution_count": 17,
   "metadata": {},
   "outputs": [
    {
     "data": {
      "text/plain": [
       "0    10000\n",
       "1    15000\n",
       "2    17500\n",
       "3    16000\n",
       "4    14000\n",
       "dtype: int64"
      ]
     },
     "execution_count": 17,
     "metadata": {},
     "output_type": "execute_result"
    }
   ],
   "source": [
    "price = pd.Series([10000, 15000, 17500, 16000, 14000])\n",
    "price"
   ]
  },
  {
   "cell_type": "code",
   "execution_count": 18,
   "metadata": {},
   "outputs": [
    {
     "data": {
      "text/plain": [
       "2018-11-24    10000\n",
       "2018-11-25    15000\n",
       "2018-11-26    17500\n",
       "2018-11-27    16000\n",
       "2018-11-28    14000\n",
       "dtype: int64"
      ]
     },
     "execution_count": 18,
     "metadata": {},
     "output_type": "execute_result"
    }
   ],
   "source": [
    "price = pd.Series( [10000, 15000, 17500, 16000, 14000], index=['2018-11-24',\n",
    "                                                               '2018-11-25',\n",
    "                                                               '2018-11-26',\n",
    "                                                               '2018-11-27',\n",
    "                                                               '2018-11-28'])\n",
    "\n",
    "price"
   ]
  },
  {
   "cell_type": "code",
   "execution_count": 19,
   "metadata": {},
   "outputs": [
    {
     "name": "stdout",
     "output_type": "stream",
     "text": [
      "10000\n",
      "[10000 15000 17500 16000 14000]\n",
      "Index(['2018-11-24', '2018-11-25', '2018-11-26', '2018-11-27', '2018-11-28'], dtype='object')\n"
     ]
    }
   ],
   "source": [
    "print(price[\"2018-11-24\"])\n",
    "print(price.values)\n",
    "print(price.index)"
   ]
  },
  {
   "cell_type": "code",
   "execution_count": 20,
   "metadata": {},
   "outputs": [
    {
     "data": {
      "text/plain": [
       "2018-11-24    1000.0\n",
       "2018-11-25    1500.0\n",
       "2018-11-26    1750.0\n",
       "2018-11-27    1600.0\n",
       "2018-11-28    1400.0\n",
       "dtype: float64"
      ]
     },
     "execution_count": 20,
     "metadata": {},
     "output_type": "execute_result"
    }
   ],
   "source": [
    "price/10"
   ]
  },
  {
   "cell_type": "markdown",
   "metadata": {},
   "source": [
    "### 2.3. DataFrame"
   ]
  },
  {
   "cell_type": "code",
   "execution_count": 21,
   "metadata": {},
   "outputs": [
    {
     "data": {
      "text/html": [
       "<div>\n",
       "<table border=\"1\" class=\"dataframe\">\n",
       "  <thead>\n",
       "    <tr style=\"text-align: right;\">\n",
       "      <th></th>\n",
       "    </tr>\n",
       "  </thead>\n",
       "  <tbody>\n",
       "  </tbody>\n",
       "</table>\n",
       "</div>"
      ],
      "text/plain": [
       "Empty DataFrame\n",
       "Columns: []\n",
       "Index: []"
      ]
     },
     "execution_count": 21,
     "metadata": {},
     "output_type": "execute_result"
    }
   ],
   "source": [
    "pd.DataFrame()"
   ]
  },
  {
   "cell_type": "markdown",
   "metadata": {},
   "source": [
    "---\n",
    "\n",
    "\n",
    "\n",
    "## 3. `numpy` & `pandas` 응용\n",
    "\n",
    "### 3.1. 성적 처리  \n",
    "\n",
    "| 이름 | 중간 | 기말 | 수행 |\n",
    "| :-------: |:-------:| :-------:| :-------:|\n",
    "| 학생1      | 100 | 50  | 90|\n",
    "| 학생2      | 70      |   85  | 80|\n",
    "| 학생3 | 45      |    75  | 100 |\n",
    "\n",
    "위와 같은 1학기의 성적표가 있고, (**중간**, **기말**, **수행**)의 반영 비율이 $(35\\%, 45\\%, 20\\%)$ 일때의 총점 계산을 선형대수적으로 처리해 보겠습니다. 우선 위의 점수 테이블과 반영 비율을 각각, 행렬($matrix$)과  벡터($vector$)로 표기하면 아래와 같습니다.\n",
    "\n",
    "$$\n",
    "X = \n",
    "\\begin{pmatrix} \n",
    "100 & 50 & 90 \\\\\n",
    "70 & 85 & 80 \\\\\n",
    "45 & 75 & 100 \n",
    "\\end{pmatrix} \n",
    "$$\n",
    "\n",
    "$$ \\vec{p} = (0.35, 0.45, 0.2)$$\n",
    "\n",
    "따라서 행렬과 벡터의 내적계산을 통해 저희가 원하는 결과를 얻을 수 있게되는 것입니다.\n",
    "\n",
    "$$\n",
    "X \\cdot \\vec{p} = \n",
    "\\begin{pmatrix} \n",
    "100 & 50 & 90 \\\\\n",
    "70 & 85 & 80 \\\\\n",
    "45 & 75 & 100 \n",
    "\\end{pmatrix} \\cdot\n",
    "(0.35, 0.45, 0.2)\n",
    "$$\n"
   ]
  },
  {
   "cell_type": "code",
   "execution_count": 22,
   "metadata": {},
   "outputs": [
    {
     "name": "stdout",
     "output_type": "stream",
     "text": [
      "[ 75.5   78.75  69.5 ]\n"
     ]
    }
   ],
   "source": [
    "import numpy as np \n",
    "\n",
    "X = np.array([[100, 50, 90],\n",
    "              [70, 85, 80],\n",
    "              [45, 75, 100]])\n",
    "\n",
    "p = np.array([0.35, 0.45, 0.2])\n",
    "\n",
    "print(X.dot(p))"
   ]
  },
  {
   "cell_type": "markdown",
   "metadata": {},
   "source": [
    "### 3.2. 기술 통계\n",
    "\n",
    "- $Def$\n",
    "    + **기술 통계($Descriptive$ $statistics$)**는 정보 수집의 특징을 정량적으로 설명하거나 요약하는 요약 통계입니다[[1]](https://en.wikipedia.org/wiki/Descriptive_statistics#cite_note-1). 즉, 데이터를 요약, 설명하는데 초점이 맞추어져 있으며 크게 2가지 기법이 있다.\n",
    "        1. 집중화 경향 ($Central$ $tendency$): 데이터가 어떤 값에 집중되어 있는가?\n",
    "            -  평균(Mean, Average)\n",
    "        2. 분산도($Variation$): 데이터가 어떻게 퍼져 있는가?\n",
    "            - 분산(Variance), 표준편차(Standard Deviation) \n",
    "\n",
    "\n",
    "데이터의 갯수가 $n$개 이고, 데이터의 각 성분을 $d_i$로 표현할 때, \n",
    "\n",
    "$$Mean = \\cfrac{d_1 + d_2 + \\cdots + d_n}{n} = \\cfrac{\\sum d_i}{n}$$\n",
    "\n",
    "$$Variance = \\cfrac{(d_1 - Mean)^2 + (d_2 - Mean)^2 + \\cdots + (d_n - Mean)^2}{n - 1} = \\cfrac{\\sum (d_i - Mean)^2}{n - 1}$$\n",
    "\n",
    "$$$$\n",
    "\n",
    "$$Std = \\sqrt{Var}$$\n"
   ]
  },
  {
   "cell_type": "code",
   "execution_count": 23,
   "metadata": {},
   "outputs": [
    {
     "data": {
      "text/html": [
       "<div>\n",
       "<table border=\"1\" class=\"dataframe\">\n",
       "  <thead>\n",
       "    <tr style=\"text-align: right;\">\n",
       "      <th></th>\n",
       "      <th>Unnamed: 0</th>\n",
       "      <th>Sepal.Length</th>\n",
       "      <th>Sepal.Width</th>\n",
       "      <th>Petal.Length</th>\n",
       "      <th>Petal.Width</th>\n",
       "      <th>Species</th>\n",
       "    </tr>\n",
       "  </thead>\n",
       "  <tbody>\n",
       "    <tr>\n",
       "      <th>0</th>\n",
       "      <td>1</td>\n",
       "      <td>5.1</td>\n",
       "      <td>3.5</td>\n",
       "      <td>1.4</td>\n",
       "      <td>0.2</td>\n",
       "      <td>setosa</td>\n",
       "    </tr>\n",
       "    <tr>\n",
       "      <th>1</th>\n",
       "      <td>2</td>\n",
       "      <td>4.9</td>\n",
       "      <td>3.0</td>\n",
       "      <td>1.4</td>\n",
       "      <td>0.2</td>\n",
       "      <td>setosa</td>\n",
       "    </tr>\n",
       "    <tr>\n",
       "      <th>2</th>\n",
       "      <td>3</td>\n",
       "      <td>4.7</td>\n",
       "      <td>3.2</td>\n",
       "      <td>1.3</td>\n",
       "      <td>0.2</td>\n",
       "      <td>setosa</td>\n",
       "    </tr>\n",
       "    <tr>\n",
       "      <th>3</th>\n",
       "      <td>4</td>\n",
       "      <td>4.6</td>\n",
       "      <td>3.1</td>\n",
       "      <td>1.5</td>\n",
       "      <td>0.2</td>\n",
       "      <td>setosa</td>\n",
       "    </tr>\n",
       "    <tr>\n",
       "      <th>4</th>\n",
       "      <td>5</td>\n",
       "      <td>5.0</td>\n",
       "      <td>3.6</td>\n",
       "      <td>1.4</td>\n",
       "      <td>0.2</td>\n",
       "      <td>setosa</td>\n",
       "    </tr>\n",
       "  </tbody>\n",
       "</table>\n",
       "</div>"
      ],
      "text/plain": [
       "   Unnamed: 0  Sepal.Length  Sepal.Width  Petal.Length  Petal.Width Species\n",
       "0           1           5.1          3.5           1.4          0.2  setosa\n",
       "1           2           4.9          3.0           1.4          0.2  setosa\n",
       "2           3           4.7          3.2           1.3          0.2  setosa\n",
       "3           4           4.6          3.1           1.5          0.2  setosa\n",
       "4           5           5.0          3.6           1.4          0.2  setosa"
      ]
     },
     "execution_count": 23,
     "metadata": {},
     "output_type": "execute_result"
    }
   ],
   "source": [
    "import pandas as pd\n",
    "import numpy as np\n",
    "\n",
    "data = pd.read_csv(\"data/iris.csv\")\n",
    "data.head()"
   ]
  },
  {
   "cell_type": "code",
   "execution_count": 24,
   "metadata": {},
   "outputs": [
    {
     "name": "stdout",
     "output_type": "stream",
     "text": [
      "각 열의 평균: [ 5.84333333  3.05733333  3.758       1.19933333]\n",
      "각 열의 분산: [ 0.68569351  0.18997942  3.11627785  0.58100626]\n",
      "각 열의 표준편차: [ 0.82806613  0.43586628  1.76529823  0.76223767]\n"
     ]
    }
   ],
   "source": [
    "d = data.iloc[:, 1:5].values\n",
    "\n",
    "n = d.shape[0]\n",
    "data_mean = d.sum(axis=0)/n\n",
    "print(\"각 열의 평균: {}\".format(data_mean))\n",
    "\n",
    "data_var = ((d - data_mean)**2 ).sum(axis=0)/(n - 1)\n",
    "print(\"각 열의 분산: {}\".format(data_var))\n",
    "\n",
    "data_std = data_var**(1/2)\n",
    "print(\"각 열의 표준편차: {}\".format(data_std))\n",
    "\n",
    "    "
   ]
  },
  {
   "cell_type": "markdown",
   "metadata": {},
   "source": [
    "`ndarray` 클래스에 속한 `.sum()` 함수는 **axis** 설정이 가능하여 행별로 더할지, 열별로 더할지 설정할 수 있습니다.\n",
    "\n",
    "### 비교\n",
    "\n",
    "- `pandas`의 `describe()`함수를 사용!"
   ]
  },
  {
   "cell_type": "code",
   "execution_count": 25,
   "metadata": {},
   "outputs": [
    {
     "data": {
      "text/html": [
       "<div>\n",
       "<table border=\"1\" class=\"dataframe\">\n",
       "  <thead>\n",
       "    <tr style=\"text-align: right;\">\n",
       "      <th></th>\n",
       "      <th>Unnamed: 0</th>\n",
       "      <th>Sepal.Length</th>\n",
       "      <th>Sepal.Width</th>\n",
       "      <th>Petal.Length</th>\n",
       "      <th>Petal.Width</th>\n",
       "    </tr>\n",
       "  </thead>\n",
       "  <tbody>\n",
       "    <tr>\n",
       "      <th>count</th>\n",
       "      <td>150.000000</td>\n",
       "      <td>150.000000</td>\n",
       "      <td>150.000000</td>\n",
       "      <td>150.000000</td>\n",
       "      <td>150.000000</td>\n",
       "    </tr>\n",
       "    <tr>\n",
       "      <th>mean</th>\n",
       "      <td>75.500000</td>\n",
       "      <td>5.843333</td>\n",
       "      <td>3.057333</td>\n",
       "      <td>3.758000</td>\n",
       "      <td>1.199333</td>\n",
       "    </tr>\n",
       "    <tr>\n",
       "      <th>std</th>\n",
       "      <td>43.445368</td>\n",
       "      <td>0.828066</td>\n",
       "      <td>0.435866</td>\n",
       "      <td>1.765298</td>\n",
       "      <td>0.762238</td>\n",
       "    </tr>\n",
       "    <tr>\n",
       "      <th>min</th>\n",
       "      <td>1.000000</td>\n",
       "      <td>4.300000</td>\n",
       "      <td>2.000000</td>\n",
       "      <td>1.000000</td>\n",
       "      <td>0.100000</td>\n",
       "    </tr>\n",
       "    <tr>\n",
       "      <th>25%</th>\n",
       "      <td>38.250000</td>\n",
       "      <td>5.100000</td>\n",
       "      <td>2.800000</td>\n",
       "      <td>1.600000</td>\n",
       "      <td>0.300000</td>\n",
       "    </tr>\n",
       "    <tr>\n",
       "      <th>50%</th>\n",
       "      <td>75.500000</td>\n",
       "      <td>5.800000</td>\n",
       "      <td>3.000000</td>\n",
       "      <td>4.350000</td>\n",
       "      <td>1.300000</td>\n",
       "    </tr>\n",
       "    <tr>\n",
       "      <th>75%</th>\n",
       "      <td>112.750000</td>\n",
       "      <td>6.400000</td>\n",
       "      <td>3.300000</td>\n",
       "      <td>5.100000</td>\n",
       "      <td>1.800000</td>\n",
       "    </tr>\n",
       "    <tr>\n",
       "      <th>max</th>\n",
       "      <td>150.000000</td>\n",
       "      <td>7.900000</td>\n",
       "      <td>4.400000</td>\n",
       "      <td>6.900000</td>\n",
       "      <td>2.500000</td>\n",
       "    </tr>\n",
       "  </tbody>\n",
       "</table>\n",
       "</div>"
      ],
      "text/plain": [
       "       Unnamed: 0  Sepal.Length  Sepal.Width  Petal.Length  Petal.Width\n",
       "count  150.000000    150.000000   150.000000    150.000000   150.000000\n",
       "mean    75.500000      5.843333     3.057333      3.758000     1.199333\n",
       "std     43.445368      0.828066     0.435866      1.765298     0.762238\n",
       "min      1.000000      4.300000     2.000000      1.000000     0.100000\n",
       "25%     38.250000      5.100000     2.800000      1.600000     0.300000\n",
       "50%     75.500000      5.800000     3.000000      4.350000     1.300000\n",
       "75%    112.750000      6.400000     3.300000      5.100000     1.800000\n",
       "max    150.000000      7.900000     4.400000      6.900000     2.500000"
      ]
     },
     "execution_count": 25,
     "metadata": {},
     "output_type": "execute_result"
    }
   ],
   "source": [
    "data.describe()"
   ]
  },
  {
   "cell_type": "markdown",
   "metadata": {},
   "source": [
    "---\n",
    "\n",
    "## Reference\n",
    "\n",
    "### 1 ~ 2. `numpy` /` pandas`\n",
    "- 책\n",
    "    + 밑바닥 부터 시작하는 데이터 과학\n",
    "    + 밑바닥 부터 시작하는 딥러닝\n",
    "- 웹사이트\n",
    "    + numpy\n",
    "        - https://docs.scipy.org/doc/numpy/user/quickstart.html\n",
    "        - https://github.com/WegraLee/deep-learning-from-scratch/tree/master/ch01\n",
    "    + pandas\n",
    "        - https://medium.com/@5eo1ab/pandas-%EC%93%B0%EB%8A%94-%EC%9D%B4%EC%9C%A0-9063a90b0bd5\n",
    "        - https://wikidocs.net/2873\n",
    "        \n",
    "        \n",
    "### 3. yes-dragon\n",
    "\n",
    "- 기술 통계\n",
    "    + https://en.wikipedia.org/wiki/Descriptive_statistics#cite_note-1\n",
    "    + http://drhongdatanote.tistory.com/25"
   ]
  }
 ],
 "metadata": {
  "kernelspec": {
   "display_name": "Python 3",
   "language": "python",
   "name": "python3"
  },
  "language_info": {
   "codemirror_mode": {
    "name": "ipython",
    "version": 3
   },
   "file_extension": ".py",
   "mimetype": "text/x-python",
   "name": "python",
   "nbconvert_exporter": "python",
   "pygments_lexer": "ipython3",
   "version": "3.6.3"
  }
 },
 "nbformat": 4,
 "nbformat_minor": 2
}
