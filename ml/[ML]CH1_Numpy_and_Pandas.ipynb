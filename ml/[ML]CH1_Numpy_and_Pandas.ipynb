{
 "cells": [
  {
   "cell_type": "markdown",
   "metadata": {},
   "source": [
    "# Machine Learning\n",
    "# CH1: numpy & pandas 기초\n",
    "\n",
    "## 2018년 11월 14일 안상호\n",
    "\n",
    "---\n",
    "\n",
    "> *가장 높은 곳에 올라가려면 가장 낮은 곳부터 시작하라.*\n",
    ">> **푸블리우스 시루스**\n",
    "\n",
    "---\n",
    "\n",
    "- 목차\n",
    "    + `numpy` 기초\n",
    "    + `pandas` 기초\n",
    "    + `numpy` & `pandas` 응용\n",
    "\n",
    "## 1. `Numpy` 기초\n",
    "\n",
    "> *`numpy`는 수학 및 과학 연산을 위한 Python의 기본 패키지입니다.*\n",
    "\n",
    "> 출처: [공식 홈페이지](http://www.numpy.org/) \n",
    "\n",
    "\n",
    "- 강점\n",
    "    + a powerful N-dimensional array object\n",
    "    + sophisticated (broadcasting) functions\n",
    "    + tools for integrating C/C++ and Fortran code\n",
    "    + useful linear algebra, Fourier transform, and random number capabilities\n",
    "\n",
    "종합하자면 `C`/`C++`, `Fortran`으로 작성되어 빠르면서도 정교한 수학 연산, 특히 **벡터** 및 **행렬**(선형대수) 연산을 가능하게 합니다.\n",
    "\n",
    "### Problem: 수학 연산\n",
    "\n",
    "$$\\vec{a} = (1, 2, 3)$$\n",
    "\n",
    "$$\\vec{b} = (4, 5, 6)$$\n",
    "\n",
    "$$\\therefore \\vec{a} + \\vec{b} = (5, 7, 9)$$\n",
    "\n",
    "이걸 어떻게 구현해야할까?\n",
    "\n",
    "- **python** `list`"
   ]
  },
  {
   "cell_type": "code",
   "execution_count": 4,
   "metadata": {},
   "outputs": [
    {
     "name": "stdout",
     "output_type": "stream",
     "text": [
      "[1, 2, 3, 4, 5, 6]\n",
      "[5, 7, 9]\n"
     ]
    }
   ],
   "source": [
    "a = [1, 2, 3]\n",
    "b = [4, 5, 6]\n",
    "\n",
    "print(a + b) ### 이게 아니다.\n",
    "print([a_i + b_i for a_i, b_i in zip(a, b)]) ### zip 함수를 써서 묶고, list comprehension\n",
    "\n",
    "def vector_sum(a, b):\n",
    "    return [a_i + b_i for a_i, b_i in zip(a, b)]"
   ]
  },
  {
   "cell_type": "markdown",
   "metadata": {},
   "source": [
    "리스트간의 합은 단지 원소 갯수를 추가하는 것이기 때문에, 반복문 (`for` 또는 `list comprehension`)이 필요합니다.\n",
    "\n",
    "이는 작은 규모의 연산에서는 별 차이가 없으나, 큰 규모의 연산에서는 끔찍한 성능을 발휘하게 됩니다.\n",
    "\n",
    "- `numpy`\n",
    "\n",
    "`numpy` **bb**"
   ]
  },
  {
   "cell_type": "code",
   "execution_count": 6,
   "metadata": {},
   "outputs": [
    {
     "name": "stdout",
     "output_type": "stream",
     "text": [
      "[5 7 9]\n"
     ]
    }
   ],
   "source": [
    "import numpy as np\n",
    "\n",
    "a = np.array([1, 2, 3])\n",
    "b = np.array([4, 5, 6])\n",
    "\n",
    "print(a + b)"
   ]
  },
  {
   "cell_type": "markdown",
   "metadata": {},
   "source": [
    "### 1.1. `numpy` 불러오기\n",
    "\n",
    "관습적으로 `numpy`를 import 할때 `np`라는 약어를 사용하고 있습니다."
   ]
  },
  {
   "cell_type": "code",
   "execution_count": 20,
   "metadata": {},
   "outputs": [],
   "source": [
    "import numpy as np"
   ]
  },
  {
   "cell_type": "markdown",
   "metadata": {},
   "source": [
    "### 1.2. 배열 생성\n",
    "\n",
    "`numpy`의 자료 클래스를 `ndarray`**(N-Dimensional Array)**라고 합니다.\n",
    "\n",
    "- `np.array()` \n",
    "    + 기존의 python `list`, `tuple` 등으로 생성   \n",
    "    + `dtype`을 조정하여 데이터 타입 지정 가능"
   ]
  },
  {
   "cell_type": "code",
   "execution_count": 22,
   "metadata": {},
   "outputs": [
    {
     "name": "stdout",
     "output_type": "stream",
     "text": [
      "[2 3 4]\n",
      "[[ 1.5  2.   3. ]\n",
      " [ 4.   5.   6. ]]\n",
      "<class 'numpy.ndarray'>\n"
     ]
    },
    {
     "data": {
      "text/plain": [
       "array([[ 1.+0.j,  2.+0.j],\n",
       "       [ 3.+0.j,  4.+0.j]])"
      ]
     },
     "execution_count": 22,
     "metadata": {},
     "output_type": "execute_result"
    }
   ],
   "source": [
    "print(np.array([2,3,4]))\n",
    "print(np.array([(1.5,2,3), (4,5,6)]))\n",
    "\n",
    "a = np.array( [ [1,2], [3,4] ], dtype=complex)\n",
    "print(type(a))\n",
    "a"
   ]
  },
  {
   "cell_type": "markdown",
   "metadata": {},
   "source": [
    "- `np.arrange()` \n",
    "    + 범위를 지정하여 생성"
   ]
  },
  {
   "cell_type": "code",
   "execution_count": 13,
   "metadata": {},
   "outputs": [
    {
     "data": {
      "text/plain": [
       "array([10, 15, 20, 25])"
      ]
     },
     "execution_count": 13,
     "metadata": {},
     "output_type": "execute_result"
    }
   ],
   "source": [
    "np.arange( 10, 30, 5 )"
   ]
  },
  {
   "cell_type": "markdown",
   "metadata": {},
   "source": [
    "- `np.zeros()` or `np.ones()` or `np.empty()`\n",
    "    + 사이즈를 지정하여 생성 "
   ]
  },
  {
   "cell_type": "code",
   "execution_count": 15,
   "metadata": {},
   "outputs": [
    {
     "data": {
      "text/plain": [
       "array([[ 0.,  0.,  0.,  0.],\n",
       "       [ 0.,  0.,  0.,  0.],\n",
       "       [ 0.,  0.,  0.,  0.]])"
      ]
     },
     "execution_count": 15,
     "metadata": {},
     "output_type": "execute_result"
    }
   ],
   "source": [
    "np.zeros((3,4))"
   ]
  },
  {
   "cell_type": "code",
   "execution_count": 16,
   "metadata": {},
   "outputs": [
    {
     "data": {
      "text/plain": [
       "array([[[1, 1, 1, 1],\n",
       "        [1, 1, 1, 1],\n",
       "        [1, 1, 1, 1]],\n",
       "\n",
       "       [[1, 1, 1, 1],\n",
       "        [1, 1, 1, 1],\n",
       "        [1, 1, 1, 1]]], dtype=int16)"
      ]
     },
     "execution_count": 16,
     "metadata": {},
     "output_type": "execute_result"
    }
   ],
   "source": [
    "np.ones((2,3,4), dtype=np.int16)"
   ]
  },
  {
   "cell_type": "code",
   "execution_count": 19,
   "metadata": {},
   "outputs": [
    {
     "data": {
      "text/plain": [
       "array([[ 0.,  0.,  0.],\n",
       "       [ 0.,  0.,  0.]])"
      ]
     },
     "execution_count": 19,
     "metadata": {},
     "output_type": "execute_result"
    }
   ],
   "source": [
    "np.empty((2,3), dtype=np.double)"
   ]
  },
  {
   "cell_type": "markdown",
   "metadata": {},
   "source": [
    "### 1.3. 산술 연산\n",
    "\n",
    "`ndarray`는 기초적인 산술 연산을 지원하는데, **`+`,`-`, `*`, `/`**를 지원합니다. \n",
    "\n",
    "이 연산들은 같은 자리의 성분끼리 연산되는 *element-wise* 방식으로, 기본적으로는 원소의 수가 같을 때 연산이 가능합니다.\n",
    "\n",
    "다만 **borad cast**라는 방법으로 서로 다른 원소들 간에도 연산이 가능한 경우가 있습니다.\n",
    "\n",
    "![](http://www.astroml.org/_images/fig_broadcast_visual_1.png)"
   ]
  },
  {
   "cell_type": "code",
   "execution_count": 23,
   "metadata": {},
   "outputs": [
    {
     "name": "stdout",
     "output_type": "stream",
     "text": [
      "[ 3.  6.  9.]\n",
      "[-1. -2. -3.]\n",
      "[  2.   8.  18.]\n",
      "[ 0.5  0.5  0.5]\n"
     ]
    }
   ],
   "source": [
    "x = np.array([1.0, 2.0, 3.0])\n",
    "y = np.array([2.0, 4.0, 6.0])\n",
    "print(x + y) # 원소별 덧셈\n",
    "print(x - y)\n",
    "print(x * y) # 원소별 곱셈\n",
    "print(x / y)\n"
   ]
  },
  {
   "cell_type": "code",
   "execution_count": 26,
   "metadata": {},
   "outputs": [
    {
     "data": {
      "text/plain": [
       "array([5, 6, 7])"
      ]
     },
     "execution_count": 26,
     "metadata": {},
     "output_type": "execute_result"
    }
   ],
   "source": [
    "x = np.arange(3)\n",
    "x + 5"
   ]
  },
  {
   "cell_type": "markdown",
   "metadata": {},
   "source": [
    "### 1.4. N 차원 배열\n",
    "\n",
    "![](https://taewanmerepo.github.io/2018/01/numpy/nparr.jpg)"
   ]
  },
  {
   "cell_type": "code",
   "execution_count": 28,
   "metadata": {},
   "outputs": [
    {
     "name": "stdout",
     "output_type": "stream",
     "text": [
      "(3,) (2, 3)\n"
     ]
    }
   ],
   "source": [
    "A = np.array([1, 2, 3]) # 1D array\n",
    "B = np.array([[1, 2, 3], [4, 5, 6]]) # 2D array\n",
    "\n",
    "print(A.shape, B.shape)"
   ]
  },
  {
   "cell_type": "code",
   "execution_count": 32,
   "metadata": {},
   "outputs": [
    {
     "name": "stdout",
     "output_type": "stream",
     "text": [
      "[14 32]\n",
      "[[ 4  2  7]\n",
      " [ 4 11  8]]\n"
     ]
    }
   ],
   "source": [
    "C = np.array([[3, 0, 4], [0, 6, 2]])\n",
    "\n",
    "print(B.dot(A)) # 2 X 3 행렬과 3 X 1 array의 행렬곱\n",
    "\n",
    "print(B + C) # element-wise "
   ]
  },
  {
   "cell_type": "markdown",
   "metadata": {},
   "source": [
    "### 1.5. 인덱싱\n",
    "\n",
    "- 원소에 대한 접근"
   ]
  },
  {
   "cell_type": "code",
   "execution_count": 36,
   "metadata": {},
   "outputs": [
    {
     "name": "stdout",
     "output_type": "stream",
     "text": [
      "[[51 55]\n",
      " [14 19]\n",
      " [ 0  4]]\n",
      "0행 [51 55]\n",
      "(0, 1) 위치의 원소 55\n"
     ]
    }
   ],
   "source": [
    "X = np.array([[51, 55], [14, 19], [0, 4]])\n",
    "print(X)\n",
    "\n",
    "print(\"0행 {}\".format(X[0]))\n",
    "print(\"(0, 1) 위치의 원소 {}\".format(X[0][1]))   "
   ]
  },
  {
   "cell_type": "markdown",
   "metadata": {},
   "source": [
    "- `for` **indexing**"
   ]
  },
  {
   "cell_type": "code",
   "execution_count": 38,
   "metadata": {},
   "outputs": [
    {
     "name": "stdout",
     "output_type": "stream",
     "text": [
      "[51 55]\n",
      "[14 19]\n",
      "[0 4]\n"
     ]
    }
   ],
   "source": [
    "for row in X:\n",
    "    print(row)"
   ]
  },
  {
   "cell_type": "markdown",
   "metadata": {},
   "source": [
    "- `bool` **indexing**"
   ]
  },
  {
   "cell_type": "code",
   "execution_count": 44,
   "metadata": {},
   "outputs": [
    {
     "name": "stdout",
     "output_type": "stream",
     "text": [
      "[[ True  True]\n",
      " [False  True]\n",
      " [False False]]\n"
     ]
    },
    {
     "data": {
      "text/plain": [
       "array([51, 55, 19])"
      ]
     },
     "execution_count": 44,
     "metadata": {},
     "output_type": "execute_result"
    }
   ],
   "source": [
    "condition = X > 15\n",
    "print(condition)\n",
    "\n",
    "X[condition]"
   ]
  },
  {
   "cell_type": "markdown",
   "metadata": {},
   "source": [
    "---\n",
    "\n",
    "## 2. `Pandas` 기초\n",
    "\n",
    "\n",
    "> *`pandas`는 성능의 사용이 쉬운 데이터구조와 python 프로그래밍언어를 위한 데이터분석 도구를 제공하는 Python의 기본 패키지입니다.*\n",
    "\n",
    "> 출처: [공식 홈페이지](https://pandas.pydata.org/) \n",
    "\n",
    "- 강점 \n",
    "    + 자동적/명시적으로 축의 이름에 따라 데이터를 정렬할 수 있는 데이터구조.\n",
    "    + 통합된 시계열 기능\n",
    "    + 시계열 데이터와 비시계열 데이터를 함께 다룰 수 있는 통합 자료 구조\n",
    "    + 산술연산과 한 축의 모든 값을 더하는 등 데이터 축약연산은 축의 이름같은 메타데이터로 전달될 수 있어야 함\n",
    "    + 누락된 데이터를 유연하게 처리할 수 있는 기능\n",
    "    + SQL 같은 일반 데이터베이스처럼 데이터를 합치고 관계연산을 수행하는 기능\n",
    "        - 출처: http://shop.oreilly.com/product/0636920050896.do\n",
    "        \n",
    "**Series**와 **DataFrame**이라는 자료구조를 사용하는 `pandas`는 `numpy` 기반 연산을 수행합니다.|"
   ]
  },
  {
   "cell_type": "code",
   "execution_count": null,
   "metadata": {},
   "outputs": [],
   "source": []
  },
  {
   "cell_type": "markdown",
   "metadata": {},
   "source": [
    "---\n",
    "\n",
    "## 3. `numpy` & `pandas` 응용\n",
    "\n",
    "### 3.1. 기술 통계"
   ]
  },
  {
   "cell_type": "code",
   "execution_count": null,
   "metadata": {},
   "outputs": [],
   "source": []
  },
  {
   "cell_type": "markdown",
   "metadata": {},
   "source": [
    "### 3.2. 성적 처리 "
   ]
  },
  {
   "cell_type": "code",
   "execution_count": null,
   "metadata": {},
   "outputs": [],
   "source": []
  },
  {
   "cell_type": "markdown",
   "metadata": {},
   "source": [
    "---\n",
    "\n",
    "## Reference\n",
    "\n",
    "- 책\n",
    "    + 밑바닥 부터 시작하는 데이터 과학\n",
    "    + 밑바닥 부터 시작하는 딥러닝\n",
    "- 웹사이트\n",
    "    + numpy\n",
    "        - https://docs.scipy.org/doc/numpy/user/quickstart.html\n",
    "        - https://github.com/WegraLee/deep-learning-from-scratch/tree/master/ch01\n",
    "    + pandas\n",
    "        - https://medium.com/@5eo1ab/pandas-%EC%93%B0%EB%8A%94-%EC%9D%B4%EC%9C%A0-9063a90b0bd5"
   ]
  }
 ],
 "metadata": {
  "kernelspec": {
   "display_name": "Python 3",
   "language": "python",
   "name": "python3"
  },
  "language_info": {
   "codemirror_mode": {
    "name": "ipython",
    "version": 3
   },
   "file_extension": ".py",
   "mimetype": "text/x-python",
   "name": "python",
   "nbconvert_exporter": "python",
   "pygments_lexer": "ipython3",
   "version": "3.6.3"
  }
 },
 "nbformat": 4,
 "nbformat_minor": 2
}
