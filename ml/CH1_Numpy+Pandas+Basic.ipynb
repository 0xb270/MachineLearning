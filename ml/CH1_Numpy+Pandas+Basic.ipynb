{
 "cells": [
  {
   "cell_type": "markdown",
   "metadata": {},
   "source": [
    "# Machine Learning \n",
    "\n",
    "## CH1: `numpy` & `pandas` 기초\n",
    "\n",
    "## 2018년 11월 14일 안상호 \n",
    "\n",
    "`numpy`는 선형대수를 위한 c 언어 백엔드를 가진 모듈입니다.\n",
    "\n",
    "`pandas`는 데이터의 형태를 데이터 프레임으로 처리 할 수 있게 만들어주는 모듈입니다. \n",
    "\n",
    "---\n",
    "\n",
    "- 목차\n",
    "    1. `numpy` 소개\n",
    "    2. `pandas` 소개\n",
    "    3. `numpy` & `pandas` 응용\n",
    "    \n",
    "---"
   ]
  }
 ],
 "metadata": {
  "kernelspec": {
   "display_name": "Python 3",
   "language": "python",
   "name": "python3"
  },
  "language_info": {
   "codemirror_mode": {
    "name": "ipython",
    "version": 3
   },
   "file_extension": ".py",
   "mimetype": "text/x-python",
   "name": "python",
   "nbconvert_exporter": "python",
   "pygments_lexer": "ipython3",
   "version": "3.5.2"
  }
 },
 "nbformat": 4,
 "nbformat_minor": 2
}
