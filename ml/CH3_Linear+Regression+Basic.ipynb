{
 "cells": [
  {
   "cell_type": "markdown",
   "metadata": {},
   "source": [
    "# 머신 러닝 기초: 안상호\n",
    "\n",
    "# 2017년 12월 19일\n",
    "\n",
    "### Programming Exercise 1 - Linear Regression\n",
    "\n",
    "## 목차\n",
    "\n",
    "1. Data load\n",
    "2. Compute Cost & Gradient Descent\n",
    "3. Linear Regression with one variable\n",
    "4. Linear Regression with multiple variables \n",
    "5. Exercise\n",
    "\n",
    "---\n",
    "\n",
    "### 1. Data load\n",
    "\n",
    "- 사용 모듈\n",
    "    + pandas\n",
    "    + numpy\n",
    "    + matplotlib\n",
    "\n",
    "\n",
    "- Data Type\n",
    "    + pandas DataFrame\n",
    "    + numpy Array\n",
    "    \n",
    "#### 1.1. DataFrame    "
   ]
  },
  {
   "cell_type": "code",
   "execution_count": 59,
   "metadata": {},
   "outputs": [
    {
     "data": {
      "text/html": [
       "<div>\n",
       "<style scoped>\n",
       "    .dataframe tbody tr th:only-of-type {\n",
       "        vertical-align: middle;\n",
       "    }\n",
       "\n",
       "    .dataframe tbody tr th {\n",
       "        vertical-align: top;\n",
       "    }\n",
       "\n",
       "    .dataframe thead th {\n",
       "        text-align: right;\n",
       "    }\n",
       "</style>\n",
       "<table border=\"1\" class=\"dataframe\">\n",
       "  <thead>\n",
       "    <tr style=\"text-align: right;\">\n",
       "      <th></th>\n",
       "      <th>population</th>\n",
       "      <th>profit</th>\n",
       "    </tr>\n",
       "  </thead>\n",
       "  <tbody>\n",
       "    <tr>\n",
       "      <th>0</th>\n",
       "      <td>6.1101</td>\n",
       "      <td>17.5920</td>\n",
       "    </tr>\n",
       "    <tr>\n",
       "      <th>1</th>\n",
       "      <td>5.5277</td>\n",
       "      <td>9.1302</td>\n",
       "    </tr>\n",
       "    <tr>\n",
       "      <th>2</th>\n",
       "      <td>8.5186</td>\n",
       "      <td>13.6620</td>\n",
       "    </tr>\n",
       "    <tr>\n",
       "      <th>3</th>\n",
       "      <td>7.0032</td>\n",
       "      <td>11.8540</td>\n",
       "    </tr>\n",
       "    <tr>\n",
       "      <th>4</th>\n",
       "      <td>5.8598</td>\n",
       "      <td>6.8233</td>\n",
       "    </tr>\n",
       "  </tbody>\n",
       "</table>\n",
       "</div>"
      ],
      "text/plain": [
       "   population   profit\n",
       "0      6.1101  17.5920\n",
       "1      5.5277   9.1302\n",
       "2      8.5186  13.6620\n",
       "3      7.0032  11.8540\n",
       "4      5.8598   6.8233"
      ]
     },
     "execution_count": 59,
     "metadata": {},
     "output_type": "execute_result"
    }
   ],
   "source": [
    "import pandas as pd\n",
    "import numpy as np\n",
    "import matplotlib.pyplot as plt\n",
    "\n",
    "df = pd.read_csv('data/ex1data1.txt', names=['population', 'profit'])\n",
    "df.head()"
   ]
  },
  {
   "cell_type": "code",
   "execution_count": 3,
   "metadata": {},
   "outputs": [
    {
     "data": {
      "text/html": [
       "<div>\n",
       "<style scoped>\n",
       "    .dataframe tbody tr th:only-of-type {\n",
       "        vertical-align: middle;\n",
       "    }\n",
       "\n",
       "    .dataframe tbody tr th {\n",
       "        vertical-align: top;\n",
       "    }\n",
       "\n",
       "    .dataframe thead th {\n",
       "        text-align: right;\n",
       "    }\n",
       "</style>\n",
       "<table border=\"1\" class=\"dataframe\">\n",
       "  <thead>\n",
       "    <tr style=\"text-align: right;\">\n",
       "      <th></th>\n",
       "      <th>population</th>\n",
       "      <th>profit</th>\n",
       "    </tr>\n",
       "  </thead>\n",
       "  <tbody>\n",
       "    <tr>\n",
       "      <th>count</th>\n",
       "      <td>97.000000</td>\n",
       "      <td>97.000000</td>\n",
       "    </tr>\n",
       "    <tr>\n",
       "      <th>mean</th>\n",
       "      <td>8.159800</td>\n",
       "      <td>5.839135</td>\n",
       "    </tr>\n",
       "    <tr>\n",
       "      <th>std</th>\n",
       "      <td>3.869884</td>\n",
       "      <td>5.510262</td>\n",
       "    </tr>\n",
       "    <tr>\n",
       "      <th>min</th>\n",
       "      <td>5.026900</td>\n",
       "      <td>-2.680700</td>\n",
       "    </tr>\n",
       "    <tr>\n",
       "      <th>25%</th>\n",
       "      <td>5.707700</td>\n",
       "      <td>1.986900</td>\n",
       "    </tr>\n",
       "    <tr>\n",
       "      <th>50%</th>\n",
       "      <td>6.589400</td>\n",
       "      <td>4.562300</td>\n",
       "    </tr>\n",
       "    <tr>\n",
       "      <th>75%</th>\n",
       "      <td>8.578100</td>\n",
       "      <td>7.046700</td>\n",
       "    </tr>\n",
       "    <tr>\n",
       "      <th>max</th>\n",
       "      <td>22.203000</td>\n",
       "      <td>24.147000</td>\n",
       "    </tr>\n",
       "  </tbody>\n",
       "</table>\n",
       "</div>"
      ],
      "text/plain": [
       "       population     profit\n",
       "count   97.000000  97.000000\n",
       "mean     8.159800   5.839135\n",
       "std      3.869884   5.510262\n",
       "min      5.026900  -2.680700\n",
       "25%      5.707700   1.986900\n",
       "50%      6.589400   4.562300\n",
       "75%      8.578100   7.046700\n",
       "max     22.203000  24.147000"
      ]
     },
     "execution_count": 3,
     "metadata": {},
     "output_type": "execute_result"
    }
   ],
   "source": [
    "df.describe()"
   ]
  },
  {
   "cell_type": "code",
   "execution_count": 4,
   "metadata": {},
   "outputs": [
    {
     "name": "stdout",
     "output_type": "stream",
     "text": [
      "<class 'pandas.core.frame.DataFrame'>\n",
      "RangeIndex: 97 entries, 0 to 96\n",
      "Data columns (total 2 columns):\n",
      "population    97 non-null float64\n",
      "profit        97 non-null float64\n",
      "dtypes: float64(2)\n",
      "memory usage: 1.6 KB\n"
     ]
    },
    {
     "data": {
      "text/plain": [
       "97"
      ]
     },
     "execution_count": 4,
     "metadata": {},
     "output_type": "execute_result"
    }
   ],
   "source": [
    "df.info()\n",
    "df.shape[0]"
   ]
  },
  {
   "cell_type": "markdown",
   "metadata": {},
   "source": [
    "`np.c_[]` 는 column 별로 묶어줄 수 있음\n",
    "\n",
    "- Usage\n",
    "    + Translates slice objects to concatenation along the second axis."
   ]
  },
  {
   "cell_type": "code",
   "execution_count": 5,
   "metadata": {},
   "outputs": [
    {
     "data": {
      "text/plain": [
       "Text(0,0.5,u'Profit in $10,000s')"
      ]
     },
     "execution_count": 5,
     "metadata": {},
     "output_type": "execute_result"
    },
    {
     "data": {
      "image/png": "[encoded data removed]",
      "text/plain": [
       "<matplotlib.figure.Figure at 0x7f7801c5fa50>"
      ]
     },
     "metadata": {},
     "output_type": "display_data"
    }
   ],
   "source": [
    "%matplotlib inline\n",
    "\n",
    "X = np.c_[np.ones(df.shape[0]), df.population.values] \n",
    "y = np.c_[df.profit.values]\n",
    "\n",
    "plt.scatter(X[:,1], y, s=30, c='r', marker='x', linewidths=1)\n",
    "plt.xlim(4,24)\n",
    "plt.xlabel('Population of City in 10,000s')\n",
    "plt.ylabel('Profit in $10,000s')"
   ]
  },
  {
   "cell_type": "markdown",
   "metadata": {},
   "source": [
    "#### 1.2. Array"
   ]
  },
  {
   "cell_type": "code",
   "execution_count": 6,
   "metadata": {},
   "outputs": [],
   "source": [
    "data = np.loadtxt('data/ex1data1.txt', delimiter=',')\n",
    "\n",
    "X = np.c_[np.ones(data.shape[0]),data[:,0]]\n",
    "y = np.c_[data[:,1]]"
   ]
  },
  {
   "cell_type": "code",
   "execution_count": 7,
   "metadata": {},
   "outputs": [
    {
     "data": {
      "text/plain": [
       "Text(0,0.5,u'Profit in $10,000s')"
      ]
     },
     "execution_count": 7,
     "metadata": {},
     "output_type": "execute_result"
    },
    {
     "data": {
      "image/png": "[encoded data removed]",
      "text/plain": [
       "<matplotlib.figure.Figure at 0x7f77ffb99ad0>"
      ]
     },
     "metadata": {},
     "output_type": "display_data"
    }
   ],
   "source": [
    "%matplotlib inline\n",
    "\n",
    "plt.scatter(X[:,1], y, s=30, c='r', marker='x', linewidths=1)\n",
    "plt.xlim(4,24)\n",
    "plt.xlabel('Population of City in 10,000s')\n",
    "plt.ylabel('Profit in $10,000s')"
   ]
  },
  {
   "cell_type": "markdown",
   "metadata": {},
   "source": [
    "---\n",
    "\n",
    "### 2. Compute Cost & Gradient Descent\n",
    "\n",
    "#### 2.1. Compute Cost\n",
    "\n",
    "+ formula\n",
    "\n",
    "$$h_\\theta(x) = \\theta^Tx = \\theta_0 + \\theta_1x_1$$\n",
    "\n",
    "$$J(\\theta) = \\frac{1}{2m}\\sum_{i=1}^{m} (h_\\theta(x^{(i)}) - y^{(i)})^2$$\n",
    "\n",
    "> 즉, 주어진 `theta` 값이 얼마나 많은 Cost를 발생 시키는가?"
   ]
  },
  {
   "cell_type": "code",
   "execution_count": 51,
   "metadata": {},
   "outputs": [],
   "source": [
    "from __future__ import division\n",
    "\n",
    "def computeCost(X, y, theta=[[0], [0]]):\n",
    "    \"\"\"\n",
    "    (예측값 - y)^2 계산\n",
    "    y절편은 1*(theta) 로 해결\n",
    "    theta = [y절편 가중치, x1 가중치]\n",
    "    \"\"\"\n",
    "    m = y.size ### 데이터 갯수 저장\n",
    "    theta = np.array(theta)\n",
    "    J = 0 ### J 초기화\n",
    "    \n",
    "    h = X.dot(theta) ### 1*0 + x*0\n",
    "    \n",
    "    J = 1/(2*m)*np.sum(np.square(h-y))\n",
    "    \n",
    "    return(J)"
   ]
  },
  {
   "cell_type": "code",
   "execution_count": 52,
   "metadata": {},
   "outputs": [
    {
     "data": {
      "text/plain": [
       "32.072733877455676"
      ]
     },
     "execution_count": 52,
     "metadata": {},
     "output_type": "execute_result"
    }
   ],
   "source": [
    "computeCost(X,y)"
   ]
  },
  {
   "cell_type": "code",
   "execution_count": 53,
   "metadata": {},
   "outputs": [
    {
     "data": {
      "text/plain": [
       "array([[2],\n",
       "       [1]])"
      ]
     },
     "execution_count": 53,
     "metadata": {},
     "output_type": "execute_result"
    }
   ],
   "source": [
    "# X.dot([[2],[1]])\n",
    "# np.array([[2,1],[1,2]])\n",
    "np.array([[2,1]]).transpose()"
   ]
  },
  {
   "cell_type": "markdown",
   "metadata": {},
   "source": [
    "#### 2.2. Gradient Descent\n",
    "\n",
    "+ formula\n",
    "\n",
    "$$\\theta_j := \\theta_j - \\alpha\\frac{1}{m}\\sum_{i=1}^{m} (h_\\theta(x^{(i)}) - y^{(i)})x_j^{(i)}$$\n",
    "\n",
    "**Insight** : J를 구하는 식을 미분한 값을 빼준다 \n",
    "\n",
    "$$\\alpha$$ : learning rate \n",
    "\n",
    "+ iteration test\n"
   ]
  },
  {
   "cell_type": "code",
   "execution_count": 54,
   "metadata": {},
   "outputs": [
    {
     "name": "stdout",
     "output_type": "stream",
     "text": [
      "[ 16.76964237  10.40757975   7.75918348   6.65328753   6.18810582\n",
      "   5.98908452   5.90065377   5.85819792   5.83487879   5.81954893\n",
      "   5.80757803   5.79704258   5.78714338   5.7775482    5.76811877\n",
      "   5.75879735   5.74955971   5.74039548   5.73130008   5.72227135\n",
      "   5.71330809   5.70440955   5.69557514   5.68680436   5.67809671\n",
      "   5.66945175   5.660869     5.65234803   5.64388839   5.63548964\n",
      "   5.62715134   5.61887305   5.61065434   5.60249479   5.59439396\n",
      "   5.58635144   5.5783668    5.57043964   5.56256952   5.55475605\n",
      "   5.54699882   5.53929742   5.53165145   5.52406051   5.51652421\n",
      "   5.50904214   5.50161393   5.49423918   5.48691752   5.47964854\n",
      "   5.47243189   5.46526718   5.45815403   5.45109208   5.44408096\n",
      "   5.4371203    5.43020973   5.42334891   5.41653747   5.40977505\n",
      "   5.4030613    5.39639587   5.38977842   5.38320859   5.37668605\n",
      "   5.37021046   5.36378147   5.35739876   5.35106198   5.34477082\n",
      "   5.33852493   5.332324     5.32616769   5.3200557    5.3139877\n",
      "   5.30796337   5.3019824    5.29604447   5.29014929   5.28429653\n",
      "   5.2784859    5.27271709   5.26698981   5.26130374   5.25565859\n",
      "   5.25005408   5.24448991   5.23896578   5.23348141   5.22803652\n",
      "   5.22263081   5.21726401   5.21193584   5.20664602   5.20139427\n",
      "   5.19618032   5.19100389   5.18586473   5.18076255   5.17569709\n",
      "   5.17066809   5.16567529   5.16071842   5.15579723   5.15091146\n",
      "   5.14606085   5.14124516   5.13646412   5.1317175    5.12700504\n",
      "   5.12232649   5.11768162   5.11307019   5.10849194   5.10394664\n",
      "   5.09943406   5.09495395   5.09050609   5.08609025   5.08170618\n",
      "   5.07735367   5.07303249   5.06874241   5.06448321   5.06025466\n",
      "   5.05605654   5.05188864   5.04775074   5.04364262   5.03956407\n",
      "   5.03551487   5.03149482   5.0275037    5.02354131   5.01960743\n",
      "   5.01570187   5.01182442   5.00797488   5.00415304   5.00035871\n",
      "   4.99659169   4.99285178   4.98913879   4.98545252   4.98179279\n",
      "   4.97815939   4.97455215   4.97097087   4.96741536   4.96388545\n",
      "   4.96038094   4.95690166   4.95344741   4.95001803   4.94661333\n",
      "   4.94323314   4.93987727   4.93654556   4.93323783   4.9299539\n",
      "   4.92669361   4.92345679   4.92024326   4.91705286   4.91388542\n",
      "   4.91074078   4.90761878   4.90451924   4.90144202   4.89838694\n",
      "   4.89535385   4.89234259   4.889353     4.88638493   4.88343822\n",
      "   4.88051272   4.87760828   4.87472474   4.87186196   4.86901978\n",
      "   4.86619805   4.86339664   4.86061539   4.85785415   4.85511279\n",
      "   4.85239116   4.84968912   4.84700653   4.84434324   4.84169913\n",
      "   4.83907404   4.83646785   4.83388041   4.8313116    4.82876128\n",
      "   4.82622931   4.82371557   4.82121991   4.81874222   4.81628237\n",
      "   4.81384022   4.81141564   4.80900852   4.80661872   4.80424612\n",
      "   4.8018906    4.79955203   4.79723029   4.79492526   4.79263682\n",
      "   4.79036486   4.78810925   4.78586987   4.7836466    4.78143934\n",
      "   4.77924797   4.77707237   4.77491243   4.77276803   4.77063907\n",
      "   4.76852543   4.766427     4.76434368   4.76227535   4.7602219\n",
      "   4.75818324   4.75615925   4.75414983   4.75215487   4.75017427\n",
      "   4.74820792   4.74625573   4.74431758   4.74239339   4.74048304\n",
      "   4.73858645   4.7367035    4.73483411   4.73297817   4.73113559\n",
      "   4.72930628   4.72749012   4.72568704   4.72389694   4.72211972\n",
      "   4.7203553    4.71860357   4.71686445   4.71513784   4.71342367\n",
      "   4.71172183   4.71003224   4.70835481   4.70668946   4.70503609\n",
      "   4.70339462   4.70176496   4.70014704   4.69854075   4.69694603\n",
      "   4.69536279   4.69379094   4.69223041   4.69068111   4.68914296\n",
      "   4.68761588   4.68609979   4.68459461   4.68310026   4.68161667\n",
      "   4.68014376   4.67868145   4.67722967   4.67578833   4.67435737\n",
      "   4.67293671   4.67152627   4.67012598   4.66873577   4.66735557\n",
      "   4.6659853    4.6646249    4.66327428   4.66193339   4.66060214\n",
      "   4.65928048   4.65796833   4.65666563   4.6553723    4.65408828\n",
      "   4.6528135    4.6515479    4.6502914    4.64904395   4.64780548\n",
      "   4.64657592   4.64535521   4.64414329   4.64294009   4.64174555\n",
      "   4.6405596    4.63938219   4.63821326   4.63705274   4.63590057\n",
      "   4.6347567    4.63362106   4.63249359   4.63137424   4.63026294\n",
      "   4.62915964   4.62806428   4.62697681   4.62589716   4.62482529\n",
      "   4.62376112   4.62270462   4.62165572   4.62061437   4.61958052\n",
      "   4.61855411   4.61753508   4.61652339   4.61551898   4.6145218\n",
      "   4.6135318    4.61254892   4.61157311   4.61060433   4.60964253\n",
      "   4.60868764   4.60773963   4.60679844   4.60586402   4.60493633\n",
      "   4.60401532   4.60310093   4.60219313   4.60129186   4.60039708\n",
      "   4.59950874   4.59862679   4.59775119   4.59688189   4.59601885\n",
      "   4.59516202   4.59431135   4.59346681   4.59262835   4.59179592\n",
      "   4.59096948   4.590149     4.58933441   4.58852569   4.58772279\n",
      "   4.58692567   4.58613429   4.5853486    4.58456857   4.58379415\n",
      "   4.58302531   4.58226199   4.58150418   4.58075181   4.58000487\n",
      "   4.57926329   4.57852706   4.57779612   4.57707045   4.57635      4.57563473\n",
      "   4.57492461   4.57421961   4.57351967   4.57282478   4.57213488\n",
      "   4.57144996   4.57076996   4.57009485   4.56942461   4.56875919\n",
      "   4.56809855   4.56744268   4.56679152   4.56614505   4.56550323\n",
      "   4.56486603   4.56423342   4.56360536   4.56298182   4.56236277\n",
      "   4.56174818   4.56113801   4.56053223   4.55993081   4.55933372\n",
      "   4.55874092   4.5581524    4.55756811   4.55698802   4.55641211\n",
      "   4.55584034   4.55527269   4.55470913   4.55414962   4.55359414\n",
      "   4.55304265   4.55249514   4.55195157   4.55141191   4.55087613\n",
      "   4.55034421   4.54981611   4.54929182   4.5487713    4.54825453\n",
      "   4.54774148   4.54723212   4.54672643   4.54622437   4.54572593\n",
      "   4.54523108   4.54473979   4.54425203   4.54376779   4.54328703\n",
      "   4.54280973   4.54233586   4.54186541   4.54139834   4.54093464\n",
      "   4.54047427   4.54001722   4.53956345   4.53911295   4.53866569\n",
      "   4.53822166   4.53778081   4.53734315   4.53690863   4.53647723\n",
      "   4.53604895   4.53562374   4.5352016    4.53478249   4.53436641\n",
      "   4.53395331   4.53354319   4.53313602   4.53273178   4.53233045\n",
      "   4.53193201   4.53153644   4.53114371   4.53075382   4.53036672\n",
      "   4.52998242   4.52960087   4.52922208   4.52884601   4.52847265\n",
      "   4.52810197   4.52773397   4.52736861   4.52700588   4.52664576\n",
      "   4.52628824   4.52593329   4.52558089   4.52523103   4.52488368\n",
      "   4.52453884   4.52419648   4.52385658   4.52351913   4.52318411\n",
      "   4.5228515    4.52252128   4.52219344   4.52186796   4.52154482\n",
      "   4.52122401   4.52090551   4.5205893    4.52027536   4.51996368\n",
      "   4.51965425   4.51934705   4.51904205   4.51873925   4.51843863\n",
      "   4.51814018   4.51784387   4.5175497    4.51725764   4.51696768\n",
      "   4.51667981   4.51639402   4.51611028   4.51582858   4.51554891\n",
      "   4.51527125   4.51499559   4.51472192   4.51445021   4.51418046\n",
      "   4.51391265   4.51364677   4.51338281   4.51312074   4.51286056\n",
      "   4.51260225   4.5123458    4.5120912    4.51183843   4.51158748\n",
      "   4.51133833   4.51109098   4.51084541   4.5106016    4.51035955\n",
      "   4.51011924   4.50988067   4.50964381   4.50940865   4.50917519\n",
      "   4.5089434    4.50871329   4.50848483   4.50825801   4.50803283\n",
      "   4.50780927   4.50758732   4.50736696   4.50714819   4.506931\n",
      "   4.50671537   4.50650129   4.50628875   4.50607774   4.50586825\n",
      "   4.50566027   4.50545379   4.50524879   4.50504526   4.50484321\n",
      "   4.5046426    4.50444344   4.50424571   4.50404941   4.50385452\n",
      "   4.50366103   4.50346894   4.50327822   4.50308888   4.5029009\n",
      "   4.50271428   4.502529     4.50234505   4.50216243   4.50198112\n",
      "   4.50180111   4.5016224    4.50144498   4.50126883   4.50109395\n",
      "   4.50092033   4.50074797   4.50057684   4.50040694   4.50023826\n",
      "   4.5000708    4.49990455   4.49973949   4.49957562   4.49941293\n",
      "   4.49925141   4.49909105   4.49893184   4.49877379   4.49861687\n",
      "   4.49846107   4.4983064    4.49815285   4.4980004    4.49784904\n",
      "   4.49769878   4.4975496    4.49740149   4.49725444   4.49710846\n",
      "   4.49696352   4.49681963   4.49667678   4.49653495   4.49639414\n",
      "   4.49625435   4.49611556   4.49597777   4.49584098   4.49570517\n",
      "   4.49557033   4.49543647   4.49530357   4.49517162   4.49504063\n",
      "   4.49491058   4.49478146   4.49465328   4.49452601   4.49439967\n",
      "   4.49427423   4.49414969   4.49402605   4.4939033    4.49378144\n",
      "   4.49366045   4.49354033   4.49342108   4.49330268   4.49318514\n",
      "   4.49306844   4.49295259   4.49283757   4.49272337   4.49261      4.49249744\n",
      "   4.49238569   4.49227475   4.49216461   4.49205525   4.49194669\n",
      "   4.49183891   4.4917319    4.49162566   4.49152019   4.49141548\n",
      "   4.49131152   4.4912083    4.49110584   4.4910041    4.49090311\n",
      "   4.49080283   4.49070328   4.49060445   4.49050633   4.49040891\n",
      "   4.4903122    4.49021618   4.49012085   4.49002621   4.48993225\n",
      "   4.48983896   4.48974635   4.4896544    4.48956312   4.48947249\n",
      "   4.48938251   4.48929319   4.4892045    4.48911646   4.48902904\n",
      "   4.48894226   4.4888561    4.48877056   4.48868564   4.48860133\n",
      "   4.48851762   4.48843452   4.48835201   4.4882701    4.48818878\n",
      "   4.48810805   4.48802789   4.48794831   4.48786931   4.48779087\n",
      "   4.487713     4.48763569   4.48755893   4.48748273   4.48740707\n",
      "   4.48733196   4.4872574    4.48718336   4.48710986   4.48703689\n",
      "   4.48696445   4.48689252   4.48682112   4.48675022   4.48667984\n",
      "   4.48660997   4.48654059   4.48647172   4.48640334   4.48633546\n",
      "   4.48626806   4.48620115   4.48613472   4.48606877   4.48600329\n",
      "   4.48593828   4.48587374   4.48580967   4.48574606   4.4856829\n",
      "   4.4856202    4.48555795   4.48549615   4.4854348    4.48537388\n",
      "   4.48531341   4.48525337   4.48519376   4.48513458   4.48507582\n",
      "   4.48501749   4.48495958   4.48490209   4.48484501   4.48478834\n",
      "   4.48473208   4.48467622   4.48462076   4.48456571   4.48451105\n",
      "   4.48445678   4.48440291   4.48434942   4.48429632   4.4842436\n",
      "   4.48419126   4.48413929   4.4840877    4.48403648   4.48398563\n",
      "   4.48393515   4.48388503   4.48383527   4.48378587   4.48373682\n",
      "   4.48368813   4.48363978   4.48359179   4.48354414   4.48349683\n",
      "   4.48344986   4.48340324   4.48335694   4.48331098   4.48326536\n",
      "   4.48322006   4.48317508   4.48313043   4.4830861    4.48304209\n",
      "   4.4829984    4.48295502   4.48291195   4.4828692    4.48282675\n",
      "   4.4827846    4.48274276   4.48270123   4.48265999   4.48261904\n",
      "   4.48257839   4.48253804   4.48249797   4.4824582    4.4824187\n",
      "   4.4823795    4.48234057   4.48230193   4.48226356   4.48222547\n",
      "   4.48218766   4.48215011   4.48211284   4.48207584   4.4820391\n",
      "   4.48200262   4.48196641   4.48193046   4.48189477   4.48185933\n",
      "   4.48182415   4.48178922   4.48175455   4.48172012   4.48168594\n",
      "   4.48165201   4.48161832   4.48158488   4.48155167   4.48151871\n",
      "   4.48148598   4.48145348   4.48142122   4.4813892    4.4813574\n",
      "   4.48132583   4.48129449   4.48126338   4.48123248   4.48120182\n",
      "   4.48117137   4.48114114   4.48111113   4.48108133   4.48105175\n",
      "   4.48102238   4.48099323   4.48096428   4.48093554   4.48090701\n",
      "   4.48087868   4.48085056   4.48082264   4.48079492   4.4807674\n",
      "   4.48074008   4.48071296   4.48068603   4.48065929   4.48063275\n",
      "   4.48060639   4.48058023   4.48055426   4.48052847   4.48050287\n",
      "   4.48047745   4.48045222   4.48042716   4.48040229   4.4803776\n",
      "   4.48035308   4.48032874   4.48030458   4.48028059   4.48025677\n",
      "   4.48023312   4.48020965   4.48018634   4.4801632    4.48014023\n",
      "   4.48011742   4.48009478   4.4800723    4.48004998   4.48002782\n",
      "   4.48000582   4.47998398   4.4799623    4.47994077   4.4799194\n",
      "   4.47989818   4.47987712   4.4798562    4.47983544   4.47981483\n",
      "   4.47979436   4.47977404   4.47975387   4.47973384   4.47971396\n",
      "   4.47969422   4.47967463   4.47965517   4.47963585   4.47961668\n",
      "   4.47959764   4.47957873   4.47955997   4.47954134   4.47952284\n",
      "   4.47950448   4.47948624   4.47946814   4.47945017   4.47943233\n",
      "   4.47941462   4.47939703   4.47937958   4.47936224   4.47934504\n",
      "   4.47932795   4.47931099   4.47929415   4.47927743   4.47926084\n",
      "   4.47924436   4.479228     4.47921176   4.47919563   4.47917962\n",
      "   4.47916373   4.47914795   4.47913228   4.47911673   4.47910129\n",
      "   4.47908596   4.47907074   4.47905563   4.47904063   4.47902574\n",
      "   4.47901095   4.47899627   4.4789817    4.47896723   4.47895286\n",
      "   4.4789386    4.47892444   4.47891039   4.47889643   4.47888257\n",
      "   4.47886882   4.47885516   4.4788416    4.47882814   4.47881478\n",
      "   4.47880151   4.47878834   4.47877526   4.47876228   4.47874939\n",
      "   4.47873659   4.47872389   4.47871127   4.47869875   4.47868632\n",
      "   4.47867398   4.47866172   4.47864955   4.47863748   4.47862548\n",
      "   4.47861358   4.47860176   4.47859003   4.47857838   4.47856681\n",
      "   4.47855533   4.47854393   4.47853261   4.47852137   4.47851022\n",
      "   4.47849914   4.47848814   4.47847723   4.47846639   4.47845563\n",
      "   4.47844495   4.47843434   4.47842381   4.47841336   4.47840298\n",
      "   4.47839267   4.47838244   4.47837229   4.47836221   4.4783522\n",
      "   4.47834226   4.47833239   4.47832259   4.47831287   4.47830321\n",
      "   4.47829363   4.47828411   4.47827466   4.47826528   4.47825597\n",
      "   4.47824672   4.47823755   4.47822843   4.47821938   4.4782104\n",
      "   4.47820148   4.47819263   4.47818384   4.47817511   4.47816645\n",
      "   4.47815785   4.47814931   4.47814083   4.47813241   4.47812406\n",
      "   4.47811576   4.47810753   4.47809935   4.47809123   4.47808317\n",
      "   4.47807517   4.47806722   4.47805934   4.47805151   4.47804373\n",
      "   4.47803601   4.47802835   4.47802074]\n"
     ]
    }
   ],
   "source": [
    "m = y.size\n",
    "theta = np.array([[0], [0]]) ### 2X1\n",
    "J_history = np.zeros(1000)\n",
    "\n",
    "for iter in np.arange(1000):\n",
    "    h = X.dot(theta) ### 97X1\n",
    "    theta = theta - 0.02*(1/m)*X.T.dot(h - y) ### 2X97 * 97X1\n",
    "    J_history[iter] = computeCost(X, y, theta.tolist())\n",
    "print(J_history)"
   ]
  },
  {
   "cell_type": "code",
   "execution_count": 55,
   "metadata": {},
   "outputs": [
    {
     "data": {
      "text/plain": [
       "array([[ -566.3961    ],\n",
       "       [-6336.89842532]])"
      ]
     },
     "execution_count": 55,
     "metadata": {},
     "output_type": "execute_result"
    }
   ],
   "source": [
    "np.matmul(X.T, X.dot(np.array([[0,0]]).transpose()) - y)"
   ]
  },
  {
   "cell_type": "code",
   "execution_count": 56,
   "metadata": {},
   "outputs": [
    {
     "name": "stdout",
     "output_type": "stream",
     "text": [
      "('theta: ', array([-3.63029144,  1.16636235]))\n"
     ]
    },
    {
     "data": {
      "text/plain": [
       "Text(0.5,0,u'Iterations')"
      ]
     },
     "execution_count": 56,
     "metadata": {},
     "output_type": "execute_result"
    },
    {
     "data": {
      "image/png": "[encoded data removed]",
      "text/plain": [
       "<matplotlib.figure.Figure at 0x7f77ffb1e0d0>"
      ]
     },
     "metadata": {},
     "output_type": "display_data"
    }
   ],
   "source": [
    "def gradientDescent(X, y, theta=[[0],[0]], alpha=0.01, num_iters=1500):\n",
    "    m = y.size\n",
    "    theta = np.array(theta) ### 2X1\n",
    "    J_history = np.zeros(num_iters)\n",
    "    \n",
    "    for iter in np.arange(num_iters):\n",
    "        h = X.dot(theta) ### 97X1\n",
    "        theta = theta - alpha*(1/m)*X.T.dot(h - y)\n",
    "        J_history[iter] = computeCost(X, y, theta.tolist())\n",
    "    return(theta, J_history)\n",
    "\n",
    "# theta for minimized cost J\n",
    "theta , Cost_J = gradientDescent(X, y, alpha = 0.01)\n",
    "print('theta: ',theta.ravel())\n",
    "plt.plot(Cost_J)\n",
    "plt.ylabel('Cost J')\n",
    "plt.xlabel('Iterations')"
   ]
  },
  {
   "cell_type": "code",
   "execution_count": 57,
   "metadata": {},
   "outputs": [
    {
     "name": "stdout",
     "output_type": "stream",
     "text": [
      "('theta: ', array([-3.87813769,  1.19126119]))\n"
     ]
    },
    {
     "data": {
      "text/plain": [
       "Text(0.5,0,u'Iterations')"
      ]
     },
     "execution_count": 57,
     "metadata": {},
     "output_type": "execute_result"
    },
    {
     "data": {
      "image/png": "[encoded data removed]",
      "text/plain": [
       "<matplotlib.figure.Figure at 0x7f77ffaf1b90>"
      ]
     },
     "metadata": {},
     "output_type": "display_data"
    }
   ],
   "source": [
    "theta2 , Cost_J2 = gradientDescent(X, y, alpha = 0.02, num_iters=1500)\n",
    "print('theta: ',theta2.ravel())\n",
    "plt.plot(Cost_J2)\n",
    "plt.ylabel('Cost J')\n",
    "plt.xlabel('Iterations')"
   ]
  },
  {
   "cell_type": "markdown",
   "metadata": {},
   "source": [
    "비교용 octave 코드\n",
    "\n",
    "```\n",
    "function [theta, J_history] = gradientDescent(X, y, theta, alpha, num_iters)\n",
    "%GRADIENTDESCENT Performs gradient descent to learn theta\n",
    "%   theta = GRADIENTDESCENT(X, y, theta, alpha, num_iters) updates theta by \n",
    "%   taking num_iters gradient steps with learning rate alpha\n",
    "\n",
    "% Initialize some useful values\n",
    "m = length(y); % number of training examples\n",
    "J_history = zeros(num_iters, 1);\n",
    "\n",
    "for iter = 1:num_iters,\n",
    "  theta = theta - (alpha/m)*(X'*(X*theta-y));\n",
    "  \n",
    "  % X'*(X*theta-y) -> (2X97) (97X1)\n",
    "\n",
    "    % ====================== YOUR CODE HERE ======================\n",
    "    % Instructions: Perform a single gradient step on the parameter vector\n",
    "    %               theta. \n",
    "    %\n",
    "    % Hint: While debugging, it can be useful to print out the values\n",
    "    %       of the cost function (computeCost) and gradient here.\n",
    "    %\n",
    "\n",
    "\n",
    "\n",
    "\n",
    "\n",
    "\n",
    "\n",
    "    % ============================================================\n",
    "\n",
    "    % Save the cost J in every iteration    \n",
    "    J_history(iter) = computeCost(X, y, theta);\n",
    "\n",
    "end\n",
    "\n",
    "end\n",
    "\n",
    "```\n",
    "\n",
    "---\n",
    "\n",
    "\n",
    "### 3. Linear Regression with one variable"
   ]
  },
  {
   "cell_type": "code",
   "execution_count": 58,
   "metadata": {},
   "outputs": [
    {
     "data": {
      "text/plain": [
       "Text(0,0.5,u'Profit in $10,000s')"
      ]
     },
     "execution_count": 58,
     "metadata": {},
     "output_type": "execute_result"
    },
    {
     "data": {
      "image/png": "[encoded data removed]",
      "text/plain": [
       "<matplotlib.figure.Figure at 0x7f7801c5f9d0>"
      ]
     },
     "metadata": {},
     "output_type": "display_data"
    }
   ],
   "source": [
    "%matplotlib inline\n",
    "\n",
    "theta , Cost_J = gradientDescent(X, y)\n",
    "theta2 , Cost_J2 = gradientDescent(X, y, alpha = 0.02)\n",
    "\n",
    "xi = np.arange(0,24)\n",
    "line = theta[1]*xi + theta[0]\n",
    "line2 = theta2[1]*xi + theta[0]\n",
    "\n",
    "plt.scatter(X[:,1], y, s=30, c='r', marker='x', linewidths=1)\n",
    "plt.plot( xi, line, c = 'b')\n",
    "plt.plot( xi, line2, c = 'g')\n",
    "plt.xlim(4,24)\n",
    "plt.xlabel('Population of City in 10,000s')\n",
    "plt.ylabel('Profit in $10,000s')"
   ]
  },
  {
   "cell_type": "markdown",
   "metadata": {},
   "source": [
    "## With tensorflow"
   ]
  },
  {
   "cell_type": "code",
   "execution_count": 21,
   "metadata": {},
   "outputs": [
    {
     "name": "stdout",
     "output_type": "stream",
     "text": [
      "(0, array([ 1.38663363], dtype=float32), array([ 1.59673285], dtype=float32), 59.526211)\n",
      "(200, array([ 0.92869687], dtype=float32), array([-1.26453936], dtype=float32), 10.214553)\n",
      "(400, array([ 1.06466818], dtype=float32), array([-2.61801338], dtype=float32), 9.2512207)\n",
      "(600, array([ 1.13069761], dtype=float32), array([-3.27527928], dtype=float32), 9.0240469)\n",
      "(800, array([ 1.1627624], dtype=float32), array([-3.59445715], dtype=float32), 8.9704742)\n",
      "(1000, array([ 1.17833352], dtype=float32), array([-3.74945402], dtype=float32), 8.9578419)\n",
      "(1200, array([ 1.18589509], dtype=float32), array([-3.82472301], dtype=float32), 8.9548626)\n",
      "(1400, array([ 1.18956721], dtype=float32), array([-3.86127472], dtype=float32), 8.9541597)\n",
      "(1600, array([ 1.19135022], dtype=float32), array([-3.87902355], dtype=float32), 8.9539938)\n",
      "(1800, array([ 1.1922164], dtype=float32), array([-3.88764429], dtype=float32), 8.9539547)\n",
      "(2000, array([ 1.19263673], dtype=float32), array([-3.89183044], dtype=float32), 8.9539461)\n"
     ]
    }
   ],
   "source": [
    "import tensorflow as tf\n",
    "import numpy as np\n",
    "\n",
    "tf.set_random_seed(777)\n",
    "\n",
    "# Data Load\n",
    "data = np.loadtxt('Week1/data/ex1data1.txt', delimiter=',')\n",
    "\n",
    "X_data = data[:,0]\n",
    "y_data = data[:,1]\n",
    "# X = np.c_[np.ones(data.shape[0]),data[:,0]]\n",
    "# y = np.c_[data[:,1]]\n",
    "X = tf.placeholder(tf.float32)\n",
    "y = tf.placeholder(tf.float32)\n",
    "W = tf.Variable(tf.random_normal([1]), name= 'Weight')\n",
    "b = tf.Variable(tf.random_normal([1]), name= 'bias')\n",
    "\n",
    "# Build \n",
    "\n",
    "h = W*X + b\n",
    "\n",
    "cost = tf.reduce_mean(tf.square(h - y))\n",
    "\n",
    "optimizer = tf.train.GradientDescentOptimizer(learning_rate=0.01)\n",
    "train = optimizer.minimize(cost)\n",
    "\n",
    "# Run\n",
    "sess = tf.Session()\n",
    "sess.run(tf.global_variables_initializer())\n",
    "\n",
    "for step in range(2001):\n",
    "    sess.run(train, feed_dict= {X: X_data, y: y_data})\n",
    "    if step % 200 == 0:\n",
    "        print(step, sess.run(W), sess.run(b), sess.run(cost, feed_dict= {X: X_data, y: y_data}))"
   ]
  },
  {
   "cell_type": "code",
   "execution_count": 22,
   "metadata": {},
   "outputs": [
    {
     "data": {
      "text/plain": [
       "array([ 3.39529896], dtype=float32)"
      ]
     },
     "execution_count": 22,
     "metadata": {},
     "output_type": "execute_result"
    }
   ],
   "source": [
    "# Run\n",
    "# sess = tf.Session()\n",
    "# sess.run(tf.global_variables_initializer())\n",
    "\n",
    "sess.run(h, feed_dict= {X: 6.1101} )"
   ]
  },
  {
   "cell_type": "markdown",
   "metadata": {},
   "source": [
    "---\n",
    "\n",
    "### 4. Linear Regression with multiple variables\n",
    "\n",
    "#### 4.1. one variable\n",
    "\n",
    "squre, bedrooms, price"
   ]
  },
  {
   "cell_type": "code",
   "execution_count": 65,
   "metadata": {},
   "outputs": [],
   "source": [
    "data_2 = np.loadtxt('data/ex1data2.txt', delimiter=',')\n",
    "\n",
    "X_2 = np.c_[np.ones(data_2.shape[0]),data_2[:,0:2]]\n",
    "y_2 = np.c_[data_2[:,2]]"
   ]
  },
  {
   "cell_type": "markdown",
   "metadata": {},
   "source": [
    "+ price ~ squre"
   ]
  },
  {
   "cell_type": "code",
   "execution_count": 76,
   "metadata": {},
   "outputs": [
    {
     "data": {
      "text/plain": [
       "<matplotlib.collections.PathCollection at 0x7f77ff49ffd0>"
      ]
     },
     "execution_count": 76,
     "metadata": {},
     "output_type": "execute_result"
    },
    {
     "data": {
      "image/png": "[encoded data removed]",
      "text/plain": [
       "<matplotlib.figure.Figure at 0x7f77ff4da790>"
      ]
     },
     "metadata": {},
     "output_type": "display_data"
    }
   ],
   "source": [
    "# print(gradientDescent(X_2[:,0:2], y_2, alpha = 0.01))\n",
    "\n",
    "plt.scatter(X_2[:,1], y_2, s=30, c='r', marker='x', linewidths=1)\n",
    "# plt.xlim(4,24)"
   ]
  },
  {
   "cell_type": "markdown",
   "metadata": {},
   "source": [
    "+ price ~ bedrooms"
   ]
  },
  {
   "cell_type": "code",
   "execution_count": 75,
   "metadata": {},
   "outputs": [
    {
     "data": {
      "text/plain": [
       "<matplotlib.collections.PathCollection at 0x7f77ff531710>"
      ]
     },
     "execution_count": 75,
     "metadata": {},
     "output_type": "execute_result"
    },
    {
     "data": {
      "image/png": "[encoded data removed]",
      "text/plain": [
       "<matplotlib.figure.Figure at 0x7f77ff64b890>"
      ]
     },
     "metadata": {},
     "output_type": "display_data"
    }
   ],
   "source": [
    "plt.scatter(X_2[:,2], y_2, s=30, c='r', marker='x', linewidths=1)"
   ]
  },
  {
   "cell_type": "markdown",
   "metadata": {},
   "source": [
    "#### 4.2. Feature Normalization"
   ]
  },
  {
   "cell_type": "code",
   "execution_count": 78,
   "metadata": {},
   "outputs": [],
   "source": [
    "def FeatureNorm(X):\n",
    "    return (X - X.mean())/(X.std())\n",
    "    \n",
    "X_2[:,1] = FeatureNorm(X_2[:,1])\n",
    "y_2 = FeatureNorm(y_2)\n",
    "# FeatureNorm(X_2[:,1])"
   ]
  },
  {
   "cell_type": "code",
   "execution_count": 82,
   "metadata": {},
   "outputs": [
    {
     "name": "stdout",
     "output_type": "stream",
     "text": [
      "('theta: ', array([ -1.08099109e-16,   8.32902280e-01,  -1.63557870e-03]))\n"
     ]
    },
    {
     "data": {
      "text/plain": [
       "Text(0.5,0,u'Iterations')"
      ]
     },
     "execution_count": 82,
     "metadata": {},
     "output_type": "execute_result"
    },
    {
     "data": {
      "image/png": "[encoded data removed]",
      "text/plain": [
       "<matplotlib.figure.Figure at 0x7f77ff4b8550>"
      ]
     },
     "metadata": {},
     "output_type": "display_data"
    }
   ],
   "source": [
    "theta_2, Cost_J_2 = gradientDescent(X_2, y_2, theta=[[0],[0],[0]], alpha = 0.01, num_iters=500)\n",
    "print('theta: ',theta_2.ravel())\n",
    "plt.plot(Cost_J_2)\n",
    "plt.ylabel('Cost J')\n",
    "plt.xlabel('Iterations')"
   ]
  },
  {
   "cell_type": "code",
   "execution_count": 81,
   "metadata": {},
   "outputs": [
    {
     "data": {
      "text/plain": [
       "array([ 0.49080152,  0.48186894,  0.47319419, ...,  0.13352767,\n",
       "        0.13352767,  0.13352766])"
      ]
     },
     "execution_count": 81,
     "metadata": {},
     "output_type": "execute_result"
    }
   ],
   "source": [
    "# computeCost(X_2, y_2, theta_2)\n",
    "Cost_J_2"
   ]
  },
  {
   "cell_type": "code",
   "execution_count": 173,
   "metadata": {},
   "outputs": [
    {
     "data": {
      "text/plain": [
       "-1.1810883240693154e-18"
      ]
     },
     "execution_count": 173,
     "metadata": {},
     "output_type": "execute_result"
    }
   ],
   "source": [
    "X_2[:,1].mean()\n",
    "\n",
    "# theta[]"
   ]
  },
  {
   "cell_type": "code",
   "execution_count": 77,
   "metadata": {},
   "outputs": [
    {
     "data": {
      "text/plain": [
       "array([[ 340412.56301439],\n",
       "       [ 109370.05670466],\n",
       "       [  -6500.61509507]])"
      ]
     },
     "execution_count": 77,
     "metadata": {},
     "output_type": "execute_result"
    }
   ],
   "source": [
    "X_2"
   ]
  },
  {
   "cell_type": "markdown",
   "metadata": {},
   "source": [
    "#### 4.3. Multi-Variables Regression with FeatureNorm"
   ]
  },
  {
   "cell_type": "code",
   "execution_count": 118,
   "metadata": {},
   "outputs": [
    {
     "name": "stdout",
     "output_type": "stream",
     "text": [
      "('theta: ', array([ -8.24222487e-17,   8.84137547e-01,  -5.25503786e-02]))\n",
      "[[  1.00000000e+00   1.31415422e-01  -2.26093368e-01]\n",
      " [  1.00000000e+00  -5.09640698e-01  -2.26093368e-01]\n",
      " [  1.00000000e+00   5.07908699e-01  -2.26093368e-01]\n",
      " [  1.00000000e+00  -7.43677059e-01  -1.55439190e+00]\n",
      " [  1.00000000e+00   1.27107075e+00   1.10220517e+00]\n",
      " [  1.00000000e+00  -1.99450507e-02   1.10220517e+00]\n",
      " [  1.00000000e+00  -5.93588523e-01  -2.26093368e-01]\n",
      " [  1.00000000e+00  -7.29685755e-01  -2.26093368e-01]\n",
      " [  1.00000000e+00  -7.89466782e-01  -2.26093368e-01]\n",
      " [  1.00000000e+00  -6.44465993e-01  -2.26093368e-01]\n",
      " [  1.00000000e+00  -7.71822042e-02   1.10220517e+00]\n",
      " [  1.00000000e+00  -8.65999486e-04  -2.26093368e-01]\n",
      " [  1.00000000e+00  -1.40779041e-01  -2.26093368e-01]\n",
      " [  1.00000000e+00   3.15099326e+00   2.43050370e+00]\n",
      " [  1.00000000e+00  -9.31923697e-01  -2.26093368e-01]\n",
      " [  1.00000000e+00   3.80715024e-01   1.10220517e+00]\n",
      " [  1.00000000e+00  -8.65782986e-01  -1.55439190e+00]\n",
      " [  1.00000000e+00  -9.72625673e-01  -2.26093368e-01]\n",
      " [  1.00000000e+00   7.73743478e-01   1.10220517e+00]\n",
      " [  1.00000000e+00   1.31050078e+00   1.10220517e+00]\n",
      " [  1.00000000e+00  -2.97227261e-01  -2.26093368e-01]\n",
      " [  1.00000000e+00  -1.43322915e-01  -1.55439190e+00]\n",
      " [  1.00000000e+00  -5.04552951e-01  -2.26093368e-01]\n",
      " [  1.00000000e+00  -4.91995958e-02   1.10220517e+00]\n",
      " [  1.00000000e+00   2.40309445e+00  -2.26093368e-01]\n",
      " [  1.00000000e+00  -1.14560907e+00  -2.26093368e-01]\n",
      " [  1.00000000e+00  -6.90255715e-01  -2.26093368e-01]\n",
      " [  1.00000000e+00   6.68172729e-01  -2.26093368e-01]\n",
      " [  1.00000000e+00   2.53521350e-01  -2.26093368e-01]\n",
      " [  1.00000000e+00   8.09357707e-01  -2.26093368e-01]\n",
      " [  1.00000000e+00  -2.05647815e-01  -1.55439190e+00]\n",
      " [  1.00000000e+00  -1.27280274e+00  -2.88269044e+00]\n",
      " [  1.00000000e+00   5.00114703e-02   1.10220517e+00]\n",
      " [  1.00000000e+00   1.44532608e+00  -2.26093368e-01]\n",
      " [  1.00000000e+00  -2.41262044e-01   1.10220517e+00]\n",
      " [  1.00000000e+00  -7.16966387e-01  -2.26093368e-01]\n",
      " [  1.00000000e+00  -9.68809863e-01  -2.26093368e-01]\n",
      " [  1.00000000e+00   1.67029651e-01   1.10220517e+00]\n",
      " [  1.00000000e+00   2.81647389e+00   1.10220517e+00]\n",
      " [  1.00000000e+00   2.05187753e-01   1.10220517e+00]\n",
      " [  1.00000000e+00  -4.28236746e-01  -1.55439190e+00]\n",
      " [  1.00000000e+00   3.01854946e-01  -2.26093368e-01]\n",
      " [  1.00000000e+00   7.20322135e-01   1.10220517e+00]\n",
      " [  1.00000000e+00  -1.01841540e+00  -2.26093368e-01]\n",
      " [  1.00000000e+00  -1.46104938e+00  -1.55439190e+00]\n",
      " [  1.00000000e+00  -1.89112638e-01   1.10220517e+00]\n",
      " [  1.00000000e+00  -1.01459959e+00  -2.26093368e-01]]\n"
     ]
    },
    {
     "data": {
      "image/png": "[encoded data removed]",
      "text/plain": [
       "<matplotlib.figure.Figure at 0x7f77ff0021d0>"
      ]
     },
     "metadata": {},
     "output_type": "display_data"
    }
   ],
   "source": [
    "data_2 = np.loadtxt('data/ex1data2.txt', delimiter=',')\n",
    "\n",
    "X_2 = np.c_[np.ones(data_2.shape[0]),data_2[:,0:2]]\n",
    "y_2 = np.c_[data_2[:,2]]\n",
    "\n",
    "def gradientDescentM(X, y, theta=[[0],[0]], alpha=0.01, num_iters=1500):\n",
    "    \n",
    "    def FeatureNorm(X):\n",
    "        return (X - X.mean())/(X.std())\n",
    "    \n",
    "    y = FeatureNorm(y)\n",
    "    for i in range(1, X.shape[1]):\n",
    "        X[:,i] = FeatureNorm(X[:,i])\n",
    "    \n",
    "    \n",
    "    m = y.size\n",
    "    theta = np.array(theta) ### 2X1\n",
    "    J_history = np.zeros(num_iters)\n",
    "    \n",
    "    for iter in np.arange(num_iters):\n",
    "        h = X.dot(theta) ### 97X1\n",
    "        theta = theta - alpha*(1/m)*X.T.dot(h - y)\n",
    "        J_history[iter] = computeCost(X, y, theta.tolist())\n",
    "    return(theta, J_history)\n",
    "\n",
    "# theta for minimized cost J\n",
    "theta_2, Cost_J_2 = gradientDescentM(X_2, y_2, theta=[[0],[0],[0]], alpha = 0.01)\n",
    "print('theta: ',theta_2.ravel())\n",
    "plt.plot(Cost_J_2)\n",
    "plt.ylabel('Cost J')\n",
    "plt.xlabel('Iterations')"
   ]
  },
  {
   "cell_type": "markdown",
   "metadata": {},
   "source": [
    "- 값 예측 함수"
   ]
  },
  {
   "cell_type": "code",
   "execution_count": 116,
   "metadata": {},
   "outputs": [
    {
     "data": {
      "text/plain": [
       "[[1, 2000, 3]]"
      ]
     },
     "execution_count": 116,
     "metadata": {},
     "output_type": "execute_result"
    }
   ],
   "source": [
    "# def FeatureNorm(X):\n",
    "#     return (X - X.mean())/(X.std())\n",
    "\n",
    "def predictM(X, trainX, theta = [[0], [0], [0] ]):\n",
    "    \n",
    "    for i in range(1, X.shape[1]):\n",
    "        X[:,i] = (X[:,i] - trainX[:,i].mean())/trainX[:,i].std()\n",
    "    return X\n",
    "\n",
    "#     return X.dot(np.array(theta))\n",
    "\n",
    "\n",
    "\n",
    "a = predictM(np.array([[1, 2000, 3]]), trainX= X_2, theta = theta_2).tolist()\n",
    "a\n",
    "# (a*y_2.std()) + y_2.mean() "
   ]
  },
  {
   "cell_type": "code",
   "execution_count": 103,
   "metadata": {},
   "outputs": [
    {
     "name": "stdout",
     "output_type": "stream",
     "text": [
      "123702.536006\n",
      "340412.659574\n"
     ]
    },
    {
     "name": "stderr",
     "output_type": "stream",
     "text": [
      "/usr/local/lib/python2.7/dist-packages/ipykernel_launcher.py:4: RuntimeWarning: invalid value encountered in true_divide\n",
      "  after removing the cwd from sys.path.\n"
     ]
    },
    {
     "data": {
      "text/plain": [
       "-7.667082051545176e+18"
      ]
     },
     "execution_count": 103,
     "metadata": {},
     "output_type": "execute_result"
    }
   ],
   "source": [
    "print(y_2.std())\n",
    "print(y_2.mean())\n",
    "predictM(np.array([[1, 2000, 3]]), theta = theta_2).tolist()[0][0]"
   ]
  },
  {
   "cell_type": "code",
   "execution_count": 117,
   "metadata": {},
   "outputs": [
    {
     "data": {
      "text/plain": [
       "array([[  1.00000000e+00,   1.31415422e-01,  -2.26093368e-01],\n",
       "       [  1.00000000e+00,  -5.09640698e-01,  -2.26093368e-01],\n",
       "       [  1.00000000e+00,   5.07908699e-01,  -2.26093368e-01],\n",
       "       [  1.00000000e+00,  -7.43677059e-01,  -1.55439190e+00],\n",
       "       [  1.00000000e+00,   1.27107075e+00,   1.10220517e+00],\n",
       "       [  1.00000000e+00,  -1.99450507e-02,   1.10220517e+00],\n",
       "       [  1.00000000e+00,  -5.93588523e-01,  -2.26093368e-01],\n",
       "       [  1.00000000e+00,  -7.29685755e-01,  -2.26093368e-01],\n",
       "       [  1.00000000e+00,  -7.89466782e-01,  -2.26093368e-01],\n",
       "       [  1.00000000e+00,  -6.44465993e-01,  -2.26093368e-01],\n",
       "       [  1.00000000e+00,  -7.71822042e-02,   1.10220517e+00],\n",
       "       [  1.00000000e+00,  -8.65999486e-04,  -2.26093368e-01],\n",
       "       [  1.00000000e+00,  -1.40779041e-01,  -2.26093368e-01],\n",
       "       [  1.00000000e+00,   3.15099326e+00,   2.43050370e+00],\n",
       "       [  1.00000000e+00,  -9.31923697e-01,  -2.26093368e-01],\n",
       "       [  1.00000000e+00,   3.80715024e-01,   1.10220517e+00],\n",
       "       [  1.00000000e+00,  -8.65782986e-01,  -1.55439190e+00],\n",
       "       [  1.00000000e+00,  -9.72625673e-01,  -2.26093368e-01],\n",
       "       [  1.00000000e+00,   7.73743478e-01,   1.10220517e+00],\n",
       "       [  1.00000000e+00,   1.31050078e+00,   1.10220517e+00],\n",
       "       [  1.00000000e+00,  -2.97227261e-01,  -2.26093368e-01],\n",
       "       [  1.00000000e+00,  -1.43322915e-01,  -1.55439190e+00],\n",
       "       [  1.00000000e+00,  -5.04552951e-01,  -2.26093368e-01],\n",
       "       [  1.00000000e+00,  -4.91995958e-02,   1.10220517e+00],\n",
       "       [  1.00000000e+00,   2.40309445e+00,  -2.26093368e-01],\n",
       "       [  1.00000000e+00,  -1.14560907e+00,  -2.26093368e-01],\n",
       "       [  1.00000000e+00,  -6.90255715e-01,  -2.26093368e-01],\n",
       "       [  1.00000000e+00,   6.68172729e-01,  -2.26093368e-01],\n",
       "       [  1.00000000e+00,   2.53521350e-01,  -2.26093368e-01],\n",
       "       [  1.00000000e+00,   8.09357707e-01,  -2.26093368e-01],\n",
       "       [  1.00000000e+00,  -2.05647815e-01,  -1.55439190e+00],\n",
       "       [  1.00000000e+00,  -1.27280274e+00,  -2.88269044e+00],\n",
       "       [  1.00000000e+00,   5.00114703e-02,   1.10220517e+00],\n",
       "       [  1.00000000e+00,   1.44532608e+00,  -2.26093368e-01],\n",
       "       [  1.00000000e+00,  -2.41262044e-01,   1.10220517e+00],\n",
       "       [  1.00000000e+00,  -7.16966387e-01,  -2.26093368e-01],\n",
       "       [  1.00000000e+00,  -9.68809863e-01,  -2.26093368e-01],\n",
       "       [  1.00000000e+00,   1.67029651e-01,   1.10220517e+00],\n",
       "       [  1.00000000e+00,   2.81647389e+00,   1.10220517e+00],\n",
       "       [  1.00000000e+00,   2.05187753e-01,   1.10220517e+00],\n",
       "       [  1.00000000e+00,  -4.28236746e-01,  -1.55439190e+00],\n",
       "       [  1.00000000e+00,   3.01854946e-01,  -2.26093368e-01],\n",
       "       [  1.00000000e+00,   7.20322135e-01,   1.10220517e+00],\n",
       "       [  1.00000000e+00,  -1.01841540e+00,  -2.26093368e-01],\n",
       "       [  1.00000000e+00,  -1.46104938e+00,  -1.55439190e+00],\n",
       "       [  1.00000000e+00,  -1.89112638e-01,   1.10220517e+00],\n",
       "       [  1.00000000e+00,  -1.01459959e+00,  -2.26093368e-01]])"
      ]
     },
     "execution_count": 117,
     "metadata": {},
     "output_type": "execute_result"
    }
   ],
   "source": [
    "X_2"
   ]
  },
  {
   "cell_type": "code",
   "execution_count": 90,
   "metadata": {},
   "outputs": [
    {
     "data": {
      "text/html": [
       "<div>\n",
       "<style scoped>\n",
       "    .dataframe tbody tr th:only-of-type {\n",
       "        vertical-align: middle;\n",
       "    }\n",
       "\n",
       "    .dataframe tbody tr th {\n",
       "        vertical-align: top;\n",
       "    }\n",
       "\n",
       "    .dataframe thead th {\n",
       "        text-align: right;\n",
       "    }\n",
       "</style>\n",
       "<table border=\"1\" class=\"dataframe\">\n",
       "  <thead>\n",
       "    <tr style=\"text-align: right;\">\n",
       "      <th></th>\n",
       "      <th>squre</th>\n",
       "      <th>bedrooms</th>\n",
       "      <th>price</th>\n",
       "    </tr>\n",
       "  </thead>\n",
       "  <tbody>\n",
       "    <tr>\n",
       "      <th>0</th>\n",
       "      <td>2104</td>\n",
       "      <td>3</td>\n",
       "      <td>399900</td>\n",
       "    </tr>\n",
       "    <tr>\n",
       "      <th>1</th>\n",
       "      <td>1600</td>\n",
       "      <td>3</td>\n",
       "      <td>329900</td>\n",
       "    </tr>\n",
       "    <tr>\n",
       "      <th>2</th>\n",
       "      <td>2400</td>\n",
       "      <td>3</td>\n",
       "      <td>369000</td>\n",
       "    </tr>\n",
       "    <tr>\n",
       "      <th>3</th>\n",
       "      <td>1416</td>\n",
       "      <td>2</td>\n",
       "      <td>232000</td>\n",
       "    </tr>\n",
       "    <tr>\n",
       "      <th>4</th>\n",
       "      <td>3000</td>\n",
       "      <td>4</td>\n",
       "      <td>539900</td>\n",
       "    </tr>\n",
       "  </tbody>\n",
       "</table>\n",
       "</div>"
      ],
      "text/plain": [
       "   squre  bedrooms   price\n",
       "0   2104         3  399900\n",
       "1   1600         3  329900\n",
       "2   2400         3  369000\n",
       "3   1416         2  232000\n",
       "4   3000         4  539900"
      ]
     },
     "execution_count": 90,
     "metadata": {},
     "output_type": "execute_result"
    }
   ],
   "source": [
    "df_2 = pd.read_csv('data/ex1data2.txt', names=['squre', 'bedrooms', 'price'])\n",
    "df_2.head()"
   ]
  },
  {
   "cell_type": "code",
   "execution_count": 60,
   "metadata": {},
   "outputs": [
    {
     "name": "stdout",
     "output_type": "stream",
     "text": [
      "(47, 3)\n"
     ]
    },
    {
     "data": {
      "text/html": [
       "<div>\n",
       "<style scoped>\n",
       "    .dataframe tbody tr th:only-of-type {\n",
       "        vertical-align: middle;\n",
       "    }\n",
       "\n",
       "    .dataframe tbody tr th {\n",
       "        vertical-align: top;\n",
       "    }\n",
       "\n",
       "    .dataframe thead th {\n",
       "        text-align: right;\n",
       "    }\n",
       "</style>\n",
       "<table border=\"1\" class=\"dataframe\">\n",
       "  <thead>\n",
       "    <tr style=\"text-align: right;\">\n",
       "      <th></th>\n",
       "      <th>square</th>\n",
       "      <th>bedrooms</th>\n",
       "      <th>price</th>\n",
       "    </tr>\n",
       "  </thead>\n",
       "  <tbody>\n",
       "    <tr>\n",
       "      <th>0</th>\n",
       "      <td>0.130010</td>\n",
       "      <td>-0.223675</td>\n",
       "      <td>0.475747</td>\n",
       "    </tr>\n",
       "    <tr>\n",
       "      <th>1</th>\n",
       "      <td>-0.504190</td>\n",
       "      <td>-0.223675</td>\n",
       "      <td>-0.084074</td>\n",
       "    </tr>\n",
       "    <tr>\n",
       "      <th>2</th>\n",
       "      <td>0.502476</td>\n",
       "      <td>-0.223675</td>\n",
       "      <td>0.228626</td>\n",
       "    </tr>\n",
       "    <tr>\n",
       "      <th>3</th>\n",
       "      <td>-0.735723</td>\n",
       "      <td>-1.537767</td>\n",
       "      <td>-0.867025</td>\n",
       "    </tr>\n",
       "    <tr>\n",
       "      <th>4</th>\n",
       "      <td>1.257476</td>\n",
       "      <td>1.090417</td>\n",
       "      <td>1.595389</td>\n",
       "    </tr>\n",
       "  </tbody>\n",
       "</table>\n",
       "</div>"
      ],
      "text/plain": [
       "     square  bedrooms     price\n",
       "0  0.130010 -0.223675  0.475747\n",
       "1 -0.504190 -0.223675 -0.084074\n",
       "2  0.502476 -0.223675  0.228626\n",
       "3 -0.735723 -1.537767 -0.867025\n",
       "4  1.257476  1.090417  1.595389"
      ]
     },
     "execution_count": 60,
     "metadata": {},
     "output_type": "execute_result"
    }
   ],
   "source": [
    "import tensorflow as tf\n",
    "\n",
    "raw_data = pd.read_csv('data/ex1data2.txt', names=['square', 'bedrooms', 'price'])\n",
    "# data = general.normalize_feature(raw_data)\n",
    "raw_data.head()\n",
    "# raw_data.shape[1]\n",
    "data = pd.DataFrame()\n",
    "for i in range(0, raw_data.shape[1]):\n",
    "    data[raw_data.columns[i]] = (raw_data.iloc[:,i] - raw_data.iloc[:,i].mean())/raw_data.iloc[:,i].std()\n",
    "#     print(data)\n",
    "print(data.shape)\n",
    "data.head()"
   ]
  },
  {
   "cell_type": "code",
   "execution_count": 61,
   "metadata": {},
   "outputs": [],
   "source": [
    "X_data = np.c_[np.ones(data.shape[0]),data.iloc[:,0:2]]\n",
    "# print(X_data)\n",
    "\n",
    "y_data = np.c_[data.iloc[:,2]]\n",
    "# print(y_data)"
   ]
  },
  {
   "cell_type": "markdown",
   "metadata": {},
   "source": [
    "#### Ploting"
   ]
  },
  {
   "cell_type": "code",
   "execution_count": 62,
   "metadata": {},
   "outputs": [
    {
     "ename": "NameError",
     "evalue": "name 'results' is not defined",
     "output_type": "error",
     "traceback": [
      "\u001b[0;31m\u001b[0m",
      "\u001b[0;31mNameError\u001b[0mTraceback (most recent call last)",
      "\u001b[0;32m<ipython-input-62-9ce46ebabd7f>\u001b[0m in \u001b[0;36m<module>\u001b[0;34m()\u001b[0m\n\u001b[1;32m      1\u001b[0m \u001b[0mfig\u001b[0m\u001b[0;34m,\u001b[0m \u001b[0max\u001b[0m \u001b[0;34m=\u001b[0m \u001b[0mplt\u001b[0m\u001b[0;34m.\u001b[0m\u001b[0msubplots\u001b[0m\u001b[0;34m(\u001b[0m\u001b[0mfigsize\u001b[0m\u001b[0;34m=\u001b[0m\u001b[0;34m(\u001b[0m\u001b[0;36m16\u001b[0m\u001b[0;34m,\u001b[0m \u001b[0;36m9\u001b[0m\u001b[0;34m)\u001b[0m\u001b[0;34m)\u001b[0m\u001b[0;34m\u001b[0m\u001b[0m\n\u001b[1;32m      2\u001b[0m \u001b[0;34m\u001b[0m\u001b[0m\n\u001b[0;32m----> 3\u001b[0;31m \u001b[0;32mfor\u001b[0m \u001b[0mres\u001b[0m \u001b[0;32min\u001b[0m \u001b[0mresults\u001b[0m\u001b[0;34m:\u001b[0m\u001b[0;34m\u001b[0m\u001b[0m\n\u001b[0m\u001b[1;32m      4\u001b[0m     \u001b[0mloss_data\u001b[0m \u001b[0;34m=\u001b[0m \u001b[0mres\u001b[0m\u001b[0;34m[\u001b[0m\u001b[0;34m'loss'\u001b[0m\u001b[0;34m]\u001b[0m\u001b[0;34m\u001b[0m\u001b[0m\n\u001b[1;32m      5\u001b[0m \u001b[0;34m\u001b[0m\u001b[0m\n",
      "\u001b[0;31mNameError\u001b[0m: name 'results' is not defined"
     ]
    },
    {
     "data": {
      "image/png": "[encoded data removed]",
      "text/plain": [
       "<matplotlib.figure.Figure at 0x7fa3427f4490>"
      ]
     },
     "metadata": {},
     "output_type": "display_data"
    }
   ],
   "source": [
    "fig, ax = plt.subplots(figsize=(16, 9))\n",
    "\n",
    "for res in results: \n",
    "    loss_data = res['loss']\n",
    "    \n",
    "#     print('for optimizer {}'.format(res['name']))\n",
    "#     print('final parameters\\n', res['parameters'])\n",
    "#     print('final loss={}\\n'.format(loss_data[-1]))\n",
    "    ax.plot(np.arange(len(loss_data)), loss_data, label=res['name'])\n",
    "\n",
    "ax.set_xlabel('epoch', fontsize=18)\n",
    "ax.set_ylabel('cost', fontsize=18)\n",
    "ax.legend(bbox_to_anchor=(1.05, 1), loc=2, borderaxespad=0.)\n",
    "ax.set_title('different optimizer', fontsize=18)"
   ]
  },
  {
   "cell_type": "markdown",
   "metadata": {},
   "source": [
    "## With Tensorflow"
   ]
  },
  {
   "cell_type": "code",
   "execution_count": 26,
   "metadata": {},
   "outputs": [
    {
     "name": "stdout",
     "output_type": "stream",
     "text": [
      "((47, 2), (47, 1))\n"
     ]
    }
   ],
   "source": [
    "import tensorflow as tf\n",
    "import numpy as np\n",
    "\n",
    "tf.set_random_seed(777)\n",
    "\n",
    "# Data Load\n",
    "data = np.loadtxt('Week1/data/ex1data2.txt', delimiter=',')\n",
    "\n",
    "X_data = data[:,0:-1]\n",
    "y_data = data[:,[-1]] \n",
    "# y_data = data[:,-1] 차이는 47로 구성된 벡터냐, 아니면 47X1 행렬이냐\n",
    "print(X_data.shape, y_data.shape)\n",
    "# print(X_data)"
   ]
  },
  {
   "cell_type": "code",
   "execution_count": 27,
   "metadata": {},
   "outputs": [
    {
     "data": {
      "text/plain": [
       "852.0"
      ]
     },
     "execution_count": 27,
     "metadata": {},
     "output_type": "execute_result"
    }
   ],
   "source": [
    "X_data[:,0].min()"
   ]
  },
  {
   "cell_type": "code",
   "execution_count": 28,
   "metadata": {},
   "outputs": [],
   "source": [
    "from __future__ import division\n",
    "\n",
    "def FeatureScale(data):\n",
    "    data_shape = data.shape\n",
    "    data_mean, data_std = [], []\n",
    "\n",
    "    data_norm = np.zeros(data_shape)   \n",
    "    for i in range(data_shape[1]):\n",
    "        data_i = data[:,i]\n",
    "        m = data_i.mean()\n",
    "        s = data_i.std()\n",
    "        \n",
    "        data_norm[:,i] = (data_i - m)/(s)\n",
    "        data_mean.append(m)\n",
    "        data_std.append(s)\n",
    "        \n",
    "    return data_norm, data_mean, data_std\n",
    "\n",
    "# (X_data - X_data.mean())/X_data.std()\n",
    "X_norm, X_mean, X_std = FeatureScale(X_data)\n",
    "y_norm, y_mean, y_std = FeatureScale(y_data)"
   ]
  },
  {
   "cell_type": "code",
   "execution_count": 29,
   "metadata": {},
   "outputs": [],
   "source": [
    "X = tf.placeholder(tf.float32, shape = [None, 2])\n",
    "y = tf.placeholder(tf.float32, shape = [None, 1])\n",
    "W = tf.Variable(tf.random_normal([2, 1]), name= 'Weight')\n",
    "b = tf.Variable(tf.random_normal([1]), name= 'bias')\n",
    "\n",
    "# Build \n",
    "\n",
    "h = tf.matmul(X, W) + b\n",
    "\n",
    "cost = tf.reduce_mean(tf.square(h - y))\n",
    "# 3e-3\n",
    "# 1e-10\n",
    "optimizer = tf.train.GradientDescentOptimizer(learning_rate=0.01)\n",
    "train = optimizer.minimize(cost)"
   ]
  },
  {
   "cell_type": "code",
   "execution_count": 35,
   "metadata": {},
   "outputs": [
    {
     "name": "stdout",
     "output_type": "stream",
     "text": [
      "\n",
      "\n",
      "Step: 0\n",
      " Weight: [[-0.57527775]\n",
      " [-1.18508995]] bias: [ 0.5664376] cost: 5.85170555115\n",
      "\n",
      "\n",
      "Step: 20\n",
      " Weight: [[ 0.05976503]\n",
      " [-0.60321969]] bias: [ 0.37815824] cost: 1.90143883228\n",
      "\n",
      "\n",
      "Step: 40\n",
      " Weight: [[ 0.40483159]\n",
      " [-0.30270937]] bias: [ 0.2524614] cost: 0.757515609264\n",
      "\n",
      "\n",
      "Step: 60\n",
      " Weight: [[ 0.59474021]\n",
      " [-0.15013689]] bias: [ 0.16854523] cost: 0.420471221209\n",
      "\n",
      "\n",
      "Step: 80\n",
      " Weight: [[ 0.70122677]\n",
      " [-0.0749361 ]] bias: [ 0.11252213] cost: 0.31834846735\n",
      "\n",
      "\n",
      "Step: 100\n",
      " Weight: [[ 0.76252782]\n",
      " [-0.03985121]] bias: [ 0.07512068] cost: 0.285993367434\n",
      "\n",
      "\n",
      "Step: 120\n",
      " Weight: [[ 0.79907846]\n",
      " [-0.02526863]] bias: [ 0.05015116] cost: 0.27501308918\n",
      "\n",
      "\n",
      "Step: 140\n",
      " Weight: [[ 0.82184571]\n",
      " [-0.02090956]] bias: [ 0.03348131] cost: 0.270902335644\n",
      "\n",
      "\n",
      "Step: 160\n",
      " Weight: [[ 0.83675349]\n",
      " [-0.02142683]] bias: [ 0.02235239] cost: 0.269160687923\n",
      "\n",
      "\n",
      "Step: 180\n",
      " Weight: [[ 0.84703344]\n",
      " [-0.02407247]] bias: [ 0.01492263] cost: 0.268318593502\n",
      "\n",
      "\n",
      "Step: 200\n",
      " Weight: [[ 0.85447389]\n",
      " [-0.02746298]] bias: [ 0.00996247] cost: 0.267860770226\n",
      "\n",
      "\n",
      "Step: 220\n",
      " Weight: [[ 0.86008602]\n",
      " [-0.03092663]] bias: [ 0.00665102] cost: 0.267588436604\n",
      "\n",
      "\n",
      "Step: 240\n",
      " Weight: [[ 0.86445838]\n",
      " [-0.03415929]] bias: [ 0.00444027] cost: 0.267416298389\n",
      "\n",
      "\n",
      "Step: 260\n",
      " Weight: [[ 0.8679471 ]\n",
      " [-0.03704332]] bias: [ 0.00296436] cost: 0.267303049564\n",
      "\n",
      "\n",
      "Step: 280\n",
      " Weight: [[ 0.87077761]\n",
      " [-0.03955297]] bias: [ 0.00197903] cost: 0.267226785421\n",
      "\n",
      "\n",
      "Step: 300\n",
      " Weight: [[ 0.87309998]\n",
      " [-0.04170525]] bias: [ 0.00132121] cost: 0.267174571753\n",
      "\n",
      "\n",
      "Step: 320\n",
      " Weight: [[ 0.87501997]\n",
      " [-0.04353492]] bias: [ 0.00088205] cost: 0.26713848114\n",
      "\n",
      "\n",
      "Step: 340\n",
      " Weight: [[ 0.87661499]\n",
      " [-0.04508198]] bias: [ 0.00058886] cost: 0.267113387585\n",
      "\n",
      "\n",
      "Step: 360\n",
      " Weight: [[ 0.87794411]\n",
      " [-0.04638572]] bias: [ 0.00039313] cost: 0.267095923424\n",
      "\n",
      "\n",
      "Step: 380\n",
      " Weight: [[ 0.87905407]\n",
      " [-0.0474821 ]] bias: [ 0.00026245] cost: 0.267083704472\n",
      "\n",
      "\n",
      "Step: 400\n",
      " Weight: [[ 0.87998199]\n",
      " [-0.04840289]] bias: [ 0.00017521] cost: 0.267075121403\n",
      "\n",
      "\n",
      "Step: 420\n",
      " Weight: [[ 0.88075846]\n",
      " [-0.04917557]] bias: [ 0.00011697] cost: 0.267069131136\n",
      "\n",
      "\n",
      "Step: 440\n",
      " Weight: [[ 0.88140863]\n",
      " [-0.04982364]] bias: [  7.80880873e-05] cost: 0.267064929008\n",
      "\n",
      "\n",
      "Step: 460\n",
      " Weight: [[ 0.88195294]\n",
      " [-0.05036699]] bias: [  5.21302791e-05] cost: 0.267061978579\n",
      "\n",
      "\n",
      "Step: 480\n",
      " Weight: [[ 0.88240898]\n",
      " [-0.05082246]] bias: [  3.47998975e-05] cost: 0.267059862614\n",
      "\n",
      "\n",
      "Step: 500\n",
      " Weight: [[ 0.88279098]\n",
      " [-0.05120419]] bias: [  2.32286220e-05] cost: 0.2670584023\n",
      "\n",
      "\n",
      "Step: 520\n",
      " Weight: [[ 0.88311118]\n",
      " [-0.05152413]] bias: [  1.55049511e-05] cost: 0.267057389021\n",
      "\n",
      "\n",
      "Step: 540\n",
      " Weight: [[ 0.88337946]\n",
      " [-0.05179226]] bias: [  1.03499133e-05] cost: 0.267056673765\n",
      "\n",
      "\n",
      "Step: 560\n",
      " Weight: [[ 0.88360417]\n",
      " [-0.05201695]] bias: [  6.90735169e-06] cost: 0.267056137323\n",
      "\n",
      "\n",
      "Step: 580\n",
      " Weight: [[ 0.88379252]\n",
      " [-0.05220525]] bias: [  4.60815863e-06] cost: 0.267055809498\n",
      "\n",
      "\n",
      "Step: 600\n",
      " Weight: [[ 0.88395029]\n",
      " [-0.05236303]] bias: [  3.07420009e-06] cost: 0.267055541277\n",
      "\n",
      "\n",
      "Step: 620\n",
      " Weight: [[ 0.88408232]\n",
      " [-0.05249521]] bias: [  2.04965681e-06] cost: 0.267055392265\n",
      "\n",
      "\n",
      "Step: 640\n",
      " Weight: [[ 0.88419306]\n",
      " [-0.05260597]] bias: [  1.36578660e-06] cost: 0.267055302858\n",
      "\n",
      "\n",
      "Step: 660\n",
      " Weight: [[ 0.88428593]\n",
      " [-0.05269879]] bias: [  9.09764424e-07] cost: 0.267055183649\n",
      "\n",
      "\n",
      "Step: 680\n",
      " Weight: [[ 0.88436371]\n",
      " [-0.05277658]] bias: [  6.05473417e-07] cost: 0.267055153847\n",
      "\n",
      "\n",
      "Step: 700\n",
      " Weight: [[ 0.88442886]\n",
      " [-0.05284174]] bias: [  4.02324019e-07] cost: 0.267055094242\n",
      "\n",
      "\n",
      "Step: 720\n",
      " Weight: [[ 0.88448346]\n",
      " [-0.05289634]] bias: [  2.67449821e-07] cost: 0.267055034637\n",
      "\n",
      "\n",
      "Step: 740\n",
      " Weight: [[ 0.88452929]\n",
      " [-0.05294212]] bias: [  1.75747189e-07] cost: 0.267055034637\n",
      "\n",
      "\n",
      "Step: 760\n",
      " Weight: [[ 0.88456768]\n",
      " [-0.05298048]] bias: [  1.14717615e-07] cost: 0.267055004835\n",
      "\n",
      "\n",
      "Step: 780\n",
      " Weight: [[ 0.88459986]\n",
      " [-0.05301262]] bias: [  7.56020668e-08] cost: 0.267055004835\n",
      "\n",
      "\n",
      "Step: 800\n",
      " Weight: [[ 0.88462675]\n",
      " [-0.05303957]] bias: [  5.04190965e-08] cost: 0.267055034637\n",
      "\n",
      "\n",
      "Step: 820\n",
      " Weight: [[ 0.88464928]\n",
      " [-0.05306213]] bias: [  3.16110444e-08] cost: 0.267055034637\n",
      "\n",
      "\n",
      "Step: 840\n",
      " Weight: [[ 0.88466817]\n",
      " [-0.05308103]] bias: [  2.19485727e-08] cost: 0.267054975033\n",
      "\n",
      "\n",
      "Step: 860\n",
      " Weight: [[ 0.88468397]\n",
      " [-0.05309686]] bias: [  1.57366493e-08] cost: 0.267055004835\n",
      "\n",
      "\n",
      "Step: 880\n",
      " Weight: [[ 0.88469726]\n",
      " [-0.05311014]] bias: [  1.14758487e-08] cost: 0.267055004835\n",
      "\n",
      "\n",
      "Step: 900\n",
      " Weight: [[ 0.88470846]\n",
      " [-0.05312126]] bias: [  6.15333828e-09] cost: 0.267054975033\n",
      "\n",
      "\n",
      "Step: 920\n",
      " Weight: [[ 0.8847177 ]\n",
      " [-0.05313058]] bias: [  3.94610433e-09] cost: 0.267054975033\n",
      "\n",
      "\n",
      "Step: 940\n",
      " Weight: [[ 0.88472545]\n",
      " [-0.05313839]] bias: [  1.33840128e-09] cost: 0.267054975033\n",
      "\n",
      "\n",
      "Step: 960\n",
      " Weight: [[ 0.88473201]\n",
      " [-0.05314494]] bias: [ -1.75824599e-09] cost: 0.267054975033\n",
      "\n",
      "\n",
      "Step: 980\n",
      " Weight: [[ 0.88473749]\n",
      " [-0.05315042]] bias: [ -3.95151112e-09] cost: 0.267054975033\n",
      "\n",
      "\n",
      "Step: 1000\n",
      " Weight: [[ 0.88474226]\n",
      " [-0.05315501]] bias: [ -6.59646693e-09] cost: 0.267054975033\n",
      "\n",
      "\n",
      "Step: 1020\n",
      " Weight: [[ 0.88474584]\n",
      " [-0.05315885]] bias: [ -8.11452328e-09] cost: 0.267054975033\n",
      "\n",
      "\n",
      "Step: 1040\n",
      " Weight: [[ 0.88474929]\n",
      " [-0.05316208]] bias: [ -1.02332827e-08] cost: 0.267054975033\n",
      "\n",
      "\n",
      "Step: 1060\n",
      " Weight: [[ 0.88475168]\n",
      " [-0.05316476]] bias: [ -1.21471508e-08] cost: 0.267054975033\n",
      "\n",
      "\n",
      "Step: 1080\n",
      " Weight: [[ 0.88475406]\n",
      " [-0.05316699]] bias: [ -1.36558951e-08] cost: 0.267055004835\n",
      "\n",
      "\n",
      "Step: 1100\n",
      " Weight: [[ 0.88475603]\n",
      " [-0.05316892]] bias: [ -1.48479886e-08] cost: 0.267054975033\n",
      "\n",
      "\n",
      "Step: 1120\n",
      " Weight: [[ 0.88475722]\n",
      " [-0.05317047]] bias: [ -1.52624260e-08] cost: 0.267054975033\n",
      "\n",
      "\n",
      "Step: 1140\n",
      " Weight: [[ 0.88475841]\n",
      " [-0.05317172]] bias: [ -1.48340176e-08] cost: 0.267054975033\n",
      "\n",
      "\n",
      "Step: 1160\n",
      " Weight: [[ 0.8847596 ]\n",
      " [-0.05317279]] bias: [ -1.50109685e-08] cost: 0.267054975033\n",
      "\n",
      "\n",
      "Step: 1180\n",
      " Weight: [[ 0.8847608 ]\n",
      " [-0.05317372]] bias: [ -1.51925761e-08] cost: 0.267054975033\n",
      "\n",
      "\n",
      "Step: 1200\n",
      " Weight: [[ 0.88476199]\n",
      " [-0.05317456]] bias: [ -1.40563623e-08] cost: 0.267054975033\n",
      "\n",
      "\n",
      "Step: 1220\n",
      " Weight: [[ 0.88476253]\n",
      " [-0.05317529]] bias: [ -1.49690589e-08] cost: 0.267054975033\n",
      "\n",
      "\n",
      "Step: 1240\n",
      " Weight: [[ 0.88476282]\n",
      " [-0.05317586]] bias: [ -1.45918699e-08] cost: 0.267054975033\n",
      "\n",
      "\n",
      "Step: 1260\n",
      " Weight: [[ 0.88476306]\n",
      " [-0.05317628]] bias: [ -1.53183013e-08] cost: 0.267054975033\n",
      "\n",
      "\n",
      "Step: 1280\n",
      " Weight: [[ 0.88476324]\n",
      " [-0.0531766 ]] bias: [ -1.51832591e-08] cost: 0.267055004835\n",
      "\n",
      "\n",
      "Step: 1300\n",
      " Weight: [[ 0.88476342]\n",
      " [-0.05317684]] bias: [ -1.59748819e-08] cost: 0.267054975033\n",
      "\n",
      "\n",
      "Step: 1320\n",
      " Weight: [[ 0.88476354]\n",
      " [-0.05317701]] bias: [ -1.52344803e-08] cost: 0.267054975033\n",
      "\n",
      "\n",
      "Step: 1340\n",
      " Weight: [[ 0.8847636 ]\n",
      " [-0.05317716]] bias: [ -1.43031595e-08] cost: 0.267054975033\n",
      "\n",
      "\n",
      "Step: 1360\n",
      " Weight: [[ 0.88476366]\n",
      " [-0.05317726]] bias: [ -1.51180686e-08] cost: 0.267054975033\n",
      "\n",
      "\n",
      "Step: 1380\n",
      " Weight: [[ 0.88476366]\n",
      " [-0.05317733]] bias: [ -1.42053738e-08] cost: 0.267054975033\n",
      "\n",
      "\n",
      "Step: 1400\n",
      " Weight: [[ 0.88476372]\n",
      " [-0.05317741]] bias: [ -1.47734793e-08] cost: 0.267054975033\n",
      "\n",
      "\n",
      "Step: 1420\n",
      " Weight: [[ 0.88476378]\n",
      " [-0.05317748]] bias: [ -1.62542850e-08] cost: 0.267054975033\n",
      "\n",
      "\n",
      "Step: 1440\n",
      " Weight: [[ 0.88476378]\n",
      " [-0.05317748]] bias: [ -1.47641703e-08] cost: 0.267054975033\n",
      "\n",
      "\n",
      "Step: 1460\n",
      " Weight: [[ 0.88476378]\n",
      " [-0.05317748]] bias: [ -1.48386743e-08] cost: 0.267054975033\n",
      "\n",
      "\n",
      "Step: 1480\n",
      " Weight: [[ 0.88476378]\n",
      " [-0.05317748]] bias: [ -1.49131765e-08] cost: 0.267054975033\n",
      "\n",
      "\n",
      "Step: 1500\n",
      " Weight: [[ 0.88476378]\n",
      " [-0.05317748]] bias: [ -1.49876804e-08] cost: 0.267054975033\n",
      "\n",
      "\n",
      "Step: 1520\n",
      " Weight: [[ 0.88476378]\n",
      " [-0.05317748]] bias: [ -1.48014134e-08] cost: 0.267054975033\n",
      "\n",
      "\n",
      "Step: 1540\n",
      " Weight: [[ 0.88476378]\n",
      " [-0.05317748]] bias: [ -1.48759174e-08] cost: 0.267054975033\n",
      "\n",
      "\n",
      "Step: 1560\n",
      " Weight: [[ 0.88476378]\n",
      " [-0.05317748]] bias: [ -1.49504196e-08] cost: 0.267054975033\n",
      "\n",
      "\n",
      "Step: 1580\n",
      " Weight: [[ 0.88476378]\n",
      " [-0.05317748]] bias: [ -1.47641526e-08] cost: 0.267054975033\n",
      "\n",
      "\n",
      "Step: 1600\n",
      " Weight: [[ 0.88476378]\n",
      " [-0.05317748]] bias: [ -1.48386565e-08] cost: 0.267054975033\n",
      "\n",
      "\n",
      "Step: 1620\n",
      " Weight: [[ 0.88476378]\n",
      " [-0.05317748]] bias: [ -1.49131587e-08] cost: 0.267054975033\n",
      "\n",
      "\n",
      "Step: 1640\n",
      " Weight: [[ 0.88476378]\n",
      " [-0.05317748]] bias: [ -1.49876627e-08] cost: 0.267054975033\n",
      "\n",
      "\n",
      "Step: 1660\n",
      " Weight: [[ 0.88476378]\n",
      " [-0.05317748]] bias: [ -1.48013957e-08] cost: 0.267054975033\n",
      "\n",
      "\n",
      "Step: 1680\n",
      " Weight: [[ 0.88476378]\n",
      " [-0.05317748]] bias: [ -1.48758996e-08] cost: 0.267054975033\n",
      "\n",
      "\n",
      "Step: 1700\n",
      " Weight: [[ 0.88476378]\n",
      " [-0.05317748]] bias: [ -1.49504018e-08] cost: 0.267054975033\n",
      "\n",
      "\n",
      "Step: 1720\n",
      " Weight: [[ 0.88476378]\n",
      " [-0.05317748]] bias: [ -1.47641348e-08] cost: 0.267054975033\n",
      "\n",
      "\n",
      "Step: 1740\n",
      " Weight: [[ 0.88476378]\n",
      " [-0.05317748]] bias: [ -1.48386388e-08] cost: 0.267054975033\n"
     ]
    },
    {
     "name": "stdout",
     "output_type": "stream",
     "text": [
      "\n",
      "\n",
      "Step: 1760\n",
      " Weight: [[ 0.88476378]\n",
      " [-0.05317748]] bias: [ -1.49131409e-08] cost: 0.267054975033\n",
      "\n",
      "\n",
      "Step: 1780\n",
      " Weight: [[ 0.88476378]\n",
      " [-0.05317748]] bias: [ -1.49876449e-08] cost: 0.267054975033\n",
      "\n",
      "\n",
      "Step: 1800\n",
      " Weight: [[ 0.88476378]\n",
      " [-0.05317748]] bias: [ -1.48013779e-08] cost: 0.267054975033\n",
      "\n",
      "\n",
      "Step: 1820\n",
      " Weight: [[ 0.88476378]\n",
      " [-0.05317748]] bias: [ -1.48758819e-08] cost: 0.267054975033\n",
      "\n",
      "\n",
      "Step: 1840\n",
      " Weight: [[ 0.88476378]\n",
      " [-0.05317748]] bias: [ -1.49503840e-08] cost: 0.267054975033\n",
      "\n",
      "\n",
      "Step: 1860\n",
      " Weight: [[ 0.88476378]\n",
      " [-0.05317748]] bias: [ -1.47641170e-08] cost: 0.267054975033\n",
      "\n",
      "\n",
      "Step: 1880\n",
      " Weight: [[ 0.88476378]\n",
      " [-0.05317748]] bias: [ -1.48386210e-08] cost: 0.267054975033\n",
      "\n",
      "\n",
      "Step: 1900\n",
      " Weight: [[ 0.88476378]\n",
      " [-0.05317748]] bias: [ -1.49131232e-08] cost: 0.267054975033\n",
      "\n",
      "\n",
      "Step: 1920\n",
      " Weight: [[ 0.88476378]\n",
      " [-0.05317748]] bias: [ -1.49876271e-08] cost: 0.267054975033\n",
      "\n",
      "\n",
      "Step: 1940\n",
      " Weight: [[ 0.88476378]\n",
      " [-0.05317748]] bias: [ -1.48013601e-08] cost: 0.267054975033\n",
      "\n",
      "\n",
      "Step: 1960\n",
      " Weight: [[ 0.88476378]\n",
      " [-0.05317748]] bias: [ -1.48758641e-08] cost: 0.267054975033\n",
      "\n",
      "\n",
      "Step: 1980\n",
      " Weight: [[ 0.88476378]\n",
      " [-0.05317748]] bias: [ -1.49503663e-08] cost: 0.267054975033\n",
      "\n",
      "\n",
      "Step: 2000\n",
      " Weight: [[ 0.88476378]\n",
      " [-0.05317748]] bias: [ -1.47640993e-08] cost: 0.267054975033\n"
     ]
    }
   ],
   "source": [
    "# Run\n",
    "sess = tf.Session()\n",
    "sess.run(tf.global_variables_initializer())\n",
    "\n",
    "for step in range(2001):\n",
    "    sess.run(train, feed_dict= {X: X_norm, y: y_norm})\n",
    "    if step % 20 == 0:\n",
    "        print(\"\\n\\nStep: {}\\n Weight: {} bias: {} cost: {}\".format(step, sess.run(W), sess.run(b), sess.run(cost, feed_dict= {X: X_norm, y: y_norm})))"
   ]
  },
  {
   "cell_type": "markdown",
   "metadata": {},
   "source": [
    "#### Prediction"
   ]
  },
  {
   "cell_type": "code",
   "execution_count": 36,
   "metadata": {},
   "outputs": [
    {
     "name": "stdout",
     "output_type": "stream",
     "text": [
      "[[ 0.13141542 -0.22609337]]\n"
     ]
    }
   ],
   "source": [
    "# Build\n",
    "\n",
    "X_test = np.array([[2104, 3]])\n",
    "X_test= (X_test- X_mean)/X_std\n",
    "print(X_test)"
   ]
  },
  {
   "cell_type": "code",
   "execution_count": 37,
   "metadata": {},
   "outputs": [
    {
     "name": "stdout",
     "output_type": "stream",
     "text": [
      "(array([[ 0.12829466]], dtype=float32), array([[ 0.88476378],\n",
      "       [-0.05317748]], dtype=float32))\n"
     ]
    }
   ],
   "source": [
    "# Run\n",
    "# sess = tf.Session()\n",
    "# sess.run(tf.global_variables_initializer())\n",
    "print(sess.run(h, feed_dict= {X: X_test} ), sess.run(W))"
   ]
  },
  {
   "cell_type": "code",
   "execution_count": 38,
   "metadata": {},
   "outputs": [
    {
     "data": {
      "text/plain": [
       "356283.03437251452"
      ]
     },
     "execution_count": 38,
     "metadata": {},
     "output_type": "execute_result"
    }
   ],
   "source": [
    "prediction = 0.12829466*y_std[0] + y_mean[0]\n",
    "\n",
    "# prediction - 399900\n",
    "prediction"
   ]
  },
  {
   "cell_type": "code",
   "execution_count": 70,
   "metadata": {},
   "outputs": [
    {
     "name": "stdout",
     "output_type": "stream",
     "text": [
      "[[  1.00000000e+00   1.60000000e+03   3.00000000e+00]\n",
      " [  1.00000000e+00   2.40000000e+03   3.00000000e+00]]\n"
     ]
    },
    {
     "data": {
      "text/plain": [
       "array([[ 89597.9095428 ],\n",
       "       [   139.21067402],\n",
       "       [ -8738.01911233]])"
      ]
     },
     "execution_count": 70,
     "metadata": {},
     "output_type": "execute_result"
    }
   ],
   "source": [
    "import numpy as np\n",
    "\n",
    "data_2 = np.loadtxt('data/ex1data2.txt', delimiter=',')\n",
    "\n",
    "x_data = np.c_[np.ones(data_2.shape[0]),data_2[:,0:2]]\n",
    "y_data = np.c_[data_2[:,2]]\n",
    "print(x_data[1:3])\n",
    "x_inv = np.linalg.pinv(x_data)\n",
    "\n",
    "theta = x_inv.dot(y_data)\n",
    "theta"
   ]
  },
  {
   "cell_type": "code",
   "execution_count": 65,
   "metadata": {},
   "outputs": [
    {
     "data": {
      "text/plain": [
       "array([[ 356283.1103389]])"
      ]
     },
     "execution_count": 65,
     "metadata": {},
     "output_type": "execute_result"
    }
   ],
   "source": [
    "np.array([[1, 2104, 3]]).dot(theta)"
   ]
  }
 ],
 "metadata": {
  "kernelspec": {
   "display_name": "Python 3",
   "language": "python",
   "name": "python3"
  },
  "language_info": {
   "codemirror_mode": {
    "name": "ipython",
    "version": 3
   },
   "file_extension": ".py",
   "mimetype": "text/x-python",
   "name": "python",
   "nbconvert_exporter": "python",
   "pygments_lexer": "ipython3",
   "version": "3.5.2"
  }
 },
 "nbformat": 4,
 "nbformat_minor": 2
}
